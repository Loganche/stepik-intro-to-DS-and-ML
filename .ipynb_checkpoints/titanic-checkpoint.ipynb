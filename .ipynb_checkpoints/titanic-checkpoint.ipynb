{
  "nbformat": 4,
  "nbformat_minor": 0,
  "metadata": {
    "language_info": {
      "codemirror_mode": {
        "name": "ipython",
        "version": 3
      },
      "file_extension": ".py",
      "mimetype": "text/x-python",
      "name": "python",
      "nbconvert_exporter": "python",
      "pygments_lexer": "ipython3",
      "version": "3.8.3"
    },
    "orig_nbformat": 2,
    "kernelspec": {
      "name": "python3",
      "display_name": "Python 3",
      "language": "python"
    },
    "colab": {
      "name": "titanic.ipynb",
      "provenance": [],
      "include_colab_link": true
    }
  },
  "cells": [
    {
      "cell_type": "markdown",
      "metadata": {
        "id": "view-in-github",
        "colab_type": "text"
      },
      "source": [
        "<a href=\"https://colab.research.google.com/github/Loganche/stepik-intro-to-DS-and-ML/blob/master/titanic.ipynb\" target=\"_parent\"><img src=\"https://colab.research.google.com/assets/colab-badge.svg\" alt=\"Open In Colab\"/></a>"
      ]
    },
    {
      "cell_type": "markdown",
      "metadata": {
        "id": "mm79bT__qMeC"
      },
      "source": [
        "# Packages & modules"
      ]
    },
    {
      "cell_type": "code",
      "metadata": {
        "id": "0c2XfBfMgsHf"
      },
      "source": [
        "import pandas as pd\n",
        "import numpy as np\n",
        "import seaborn as sns\n",
        "from sklearn import tree\n",
        "import matplotlib.pyplot as plt\n",
        "from sklearn.model_selection import cross_val_score\n",
        "\n",
        "%matplotlib inline"
      ],
      "execution_count": null,
      "outputs": []
    },
    {
      "cell_type": "markdown",
      "metadata": {
        "id": "faTRrcAwp8Mx"
      },
      "source": [
        "# Model"
      ]
    },
    {
      "cell_type": "code",
      "metadata": {
        "id": "6zlpff8ggsHm",
        "colab": {
          "base_uri": "https://localhost:8080/",
          "height": 391
        },
        "outputId": "2376cd87-85f3-45eb-8b33-9e02708fbc75"
      },
      "source": [
        "titanic_data = pd.read_csv('train.csv')\n",
        "titanic_data.head()"
      ],
      "execution_count": null,
      "outputs": [
        {
          "output_type": "execute_result",
          "data": {
            "text/html": [
              "<div>\n",
              "<style scoped>\n",
              "    .dataframe tbody tr th:only-of-type {\n",
              "        vertical-align: middle;\n",
              "    }\n",
              "\n",
              "    .dataframe tbody tr th {\n",
              "        vertical-align: top;\n",
              "    }\n",
              "\n",
              "    .dataframe thead th {\n",
              "        text-align: right;\n",
              "    }\n",
              "</style>\n",
              "<table border=\"1\" class=\"dataframe\">\n",
              "  <thead>\n",
              "    <tr style=\"text-align: right;\">\n",
              "      <th></th>\n",
              "      <th>PassengerId</th>\n",
              "      <th>Survived</th>\n",
              "      <th>Pclass</th>\n",
              "      <th>Name</th>\n",
              "      <th>Sex</th>\n",
              "      <th>Age</th>\n",
              "      <th>SibSp</th>\n",
              "      <th>Parch</th>\n",
              "      <th>Ticket</th>\n",
              "      <th>Fare</th>\n",
              "      <th>Cabin</th>\n",
              "      <th>Embarked</th>\n",
              "    </tr>\n",
              "  </thead>\n",
              "  <tbody>\n",
              "    <tr>\n",
              "      <th>0</th>\n",
              "      <td>1</td>\n",
              "      <td>0</td>\n",
              "      <td>3</td>\n",
              "      <td>Braund, Mr. Owen Harris</td>\n",
              "      <td>male</td>\n",
              "      <td>22.0</td>\n",
              "      <td>1</td>\n",
              "      <td>0</td>\n",
              "      <td>A/5 21171</td>\n",
              "      <td>7.2500</td>\n",
              "      <td>NaN</td>\n",
              "      <td>S</td>\n",
              "    </tr>\n",
              "    <tr>\n",
              "      <th>1</th>\n",
              "      <td>2</td>\n",
              "      <td>1</td>\n",
              "      <td>1</td>\n",
              "      <td>Cumings, Mrs. John Bradley (Florence Briggs Th...</td>\n",
              "      <td>female</td>\n",
              "      <td>38.0</td>\n",
              "      <td>1</td>\n",
              "      <td>0</td>\n",
              "      <td>PC 17599</td>\n",
              "      <td>71.2833</td>\n",
              "      <td>C85</td>\n",
              "      <td>C</td>\n",
              "    </tr>\n",
              "    <tr>\n",
              "      <th>2</th>\n",
              "      <td>3</td>\n",
              "      <td>1</td>\n",
              "      <td>3</td>\n",
              "      <td>Heikkinen, Miss. Laina</td>\n",
              "      <td>female</td>\n",
              "      <td>26.0</td>\n",
              "      <td>0</td>\n",
              "      <td>0</td>\n",
              "      <td>STON/O2. 3101282</td>\n",
              "      <td>7.9250</td>\n",
              "      <td>NaN</td>\n",
              "      <td>S</td>\n",
              "    </tr>\n",
              "    <tr>\n",
              "      <th>3</th>\n",
              "      <td>4</td>\n",
              "      <td>1</td>\n",
              "      <td>1</td>\n",
              "      <td>Futrelle, Mrs. Jacques Heath (Lily May Peel)</td>\n",
              "      <td>female</td>\n",
              "      <td>35.0</td>\n",
              "      <td>1</td>\n",
              "      <td>0</td>\n",
              "      <td>113803</td>\n",
              "      <td>53.1000</td>\n",
              "      <td>C123</td>\n",
              "      <td>S</td>\n",
              "    </tr>\n",
              "    <tr>\n",
              "      <th>4</th>\n",
              "      <td>5</td>\n",
              "      <td>0</td>\n",
              "      <td>3</td>\n",
              "      <td>Allen, Mr. William Henry</td>\n",
              "      <td>male</td>\n",
              "      <td>35.0</td>\n",
              "      <td>0</td>\n",
              "      <td>0</td>\n",
              "      <td>373450</td>\n",
              "      <td>8.0500</td>\n",
              "      <td>NaN</td>\n",
              "      <td>S</td>\n",
              "    </tr>\n",
              "  </tbody>\n",
              "</table>\n",
              "</div>"
            ],
            "text/plain": [
              "   PassengerId  Survived  Pclass  ...     Fare Cabin  Embarked\n",
              "0            1         0       3  ...   7.2500   NaN         S\n",
              "1            2         1       1  ...  71.2833   C85         C\n",
              "2            3         1       3  ...   7.9250   NaN         S\n",
              "3            4         1       1  ...  53.1000  C123         S\n",
              "4            5         0       3  ...   8.0500   NaN         S\n",
              "\n",
              "[5 rows x 12 columns]"
            ]
          },
          "metadata": {
            "tags": []
          },
          "execution_count": 81
        }
      ]
    },
    {
      "cell_type": "code",
      "metadata": {
        "id": "2jL1_MxbgsHn",
        "colab": {
          "base_uri": "https://localhost:8080/"
        },
        "outputId": "d4771b3c-6a8f-44a0-df3d-af62a9e04333"
      },
      "source": [
        "titanic_data.isnull().sum()"
      ],
      "execution_count": null,
      "outputs": [
        {
          "output_type": "execute_result",
          "data": {
            "text/plain": [
              "PassengerId      0\n",
              "Survived         0\n",
              "Pclass           0\n",
              "Name             0\n",
              "Sex              0\n",
              "Age            177\n",
              "SibSp            0\n",
              "Parch            0\n",
              "Ticket           0\n",
              "Fare             0\n",
              "Cabin          687\n",
              "Embarked         2\n",
              "dtype: int64"
            ]
          },
          "metadata": {
            "tags": []
          },
          "execution_count": 82
        }
      ]
    },
    {
      "cell_type": "code",
      "metadata": {
        "id": "1tb_RdYjgsHo",
        "colab": {
          "base_uri": "https://localhost:8080/",
          "height": 204
        },
        "outputId": "169560d5-71b5-411c-8bd6-488494f7f89a"
      },
      "source": [
        "X = titanic_data.drop(['PassengerId', 'Survived', 'Name', 'Ticket', 'Cabin'], axis=1)\n",
        "X.head()"
      ],
      "execution_count": null,
      "outputs": [
        {
          "output_type": "execute_result",
          "data": {
            "text/html": [
              "<div>\n",
              "<style scoped>\n",
              "    .dataframe tbody tr th:only-of-type {\n",
              "        vertical-align: middle;\n",
              "    }\n",
              "\n",
              "    .dataframe tbody tr th {\n",
              "        vertical-align: top;\n",
              "    }\n",
              "\n",
              "    .dataframe thead th {\n",
              "        text-align: right;\n",
              "    }\n",
              "</style>\n",
              "<table border=\"1\" class=\"dataframe\">\n",
              "  <thead>\n",
              "    <tr style=\"text-align: right;\">\n",
              "      <th></th>\n",
              "      <th>Pclass</th>\n",
              "      <th>Sex</th>\n",
              "      <th>Age</th>\n",
              "      <th>SibSp</th>\n",
              "      <th>Parch</th>\n",
              "      <th>Fare</th>\n",
              "      <th>Embarked</th>\n",
              "    </tr>\n",
              "  </thead>\n",
              "  <tbody>\n",
              "    <tr>\n",
              "      <th>0</th>\n",
              "      <td>3</td>\n",
              "      <td>male</td>\n",
              "      <td>22.0</td>\n",
              "      <td>1</td>\n",
              "      <td>0</td>\n",
              "      <td>7.2500</td>\n",
              "      <td>S</td>\n",
              "    </tr>\n",
              "    <tr>\n",
              "      <th>1</th>\n",
              "      <td>1</td>\n",
              "      <td>female</td>\n",
              "      <td>38.0</td>\n",
              "      <td>1</td>\n",
              "      <td>0</td>\n",
              "      <td>71.2833</td>\n",
              "      <td>C</td>\n",
              "    </tr>\n",
              "    <tr>\n",
              "      <th>2</th>\n",
              "      <td>3</td>\n",
              "      <td>female</td>\n",
              "      <td>26.0</td>\n",
              "      <td>0</td>\n",
              "      <td>0</td>\n",
              "      <td>7.9250</td>\n",
              "      <td>S</td>\n",
              "    </tr>\n",
              "    <tr>\n",
              "      <th>3</th>\n",
              "      <td>1</td>\n",
              "      <td>female</td>\n",
              "      <td>35.0</td>\n",
              "      <td>1</td>\n",
              "      <td>0</td>\n",
              "      <td>53.1000</td>\n",
              "      <td>S</td>\n",
              "    </tr>\n",
              "    <tr>\n",
              "      <th>4</th>\n",
              "      <td>3</td>\n",
              "      <td>male</td>\n",
              "      <td>35.0</td>\n",
              "      <td>0</td>\n",
              "      <td>0</td>\n",
              "      <td>8.0500</td>\n",
              "      <td>S</td>\n",
              "    </tr>\n",
              "  </tbody>\n",
              "</table>\n",
              "</div>"
            ],
            "text/plain": [
              "   Pclass     Sex   Age  SibSp  Parch     Fare Embarked\n",
              "0       3    male  22.0      1      0   7.2500        S\n",
              "1       1  female  38.0      1      0  71.2833        C\n",
              "2       3  female  26.0      0      0   7.9250        S\n",
              "3       1  female  35.0      1      0  53.1000        S\n",
              "4       3    male  35.0      0      0   8.0500        S"
            ]
          },
          "metadata": {
            "tags": []
          },
          "execution_count": 83
        }
      ]
    },
    {
      "cell_type": "code",
      "metadata": {
        "id": "x3j3DO3VgsHo"
      },
      "source": [
        "y = titanic_data.Survived"
      ],
      "execution_count": null,
      "outputs": []
    },
    {
      "cell_type": "code",
      "metadata": {
        "id": "ceSTun0qgsHp",
        "colab": {
          "base_uri": "https://localhost:8080/",
          "height": 204
        },
        "outputId": "d1583aa8-9255-4622-c026-4f734d65af43"
      },
      "source": [
        "X = pd.get_dummies(X)\n",
        "X.head()"
      ],
      "execution_count": null,
      "outputs": [
        {
          "output_type": "execute_result",
          "data": {
            "text/html": [
              "<div>\n",
              "<style scoped>\n",
              "    .dataframe tbody tr th:only-of-type {\n",
              "        vertical-align: middle;\n",
              "    }\n",
              "\n",
              "    .dataframe tbody tr th {\n",
              "        vertical-align: top;\n",
              "    }\n",
              "\n",
              "    .dataframe thead th {\n",
              "        text-align: right;\n",
              "    }\n",
              "</style>\n",
              "<table border=\"1\" class=\"dataframe\">\n",
              "  <thead>\n",
              "    <tr style=\"text-align: right;\">\n",
              "      <th></th>\n",
              "      <th>Pclass</th>\n",
              "      <th>Age</th>\n",
              "      <th>SibSp</th>\n",
              "      <th>Parch</th>\n",
              "      <th>Fare</th>\n",
              "      <th>Sex_female</th>\n",
              "      <th>Sex_male</th>\n",
              "      <th>Embarked_C</th>\n",
              "      <th>Embarked_Q</th>\n",
              "      <th>Embarked_S</th>\n",
              "    </tr>\n",
              "  </thead>\n",
              "  <tbody>\n",
              "    <tr>\n",
              "      <th>0</th>\n",
              "      <td>3</td>\n",
              "      <td>22.0</td>\n",
              "      <td>1</td>\n",
              "      <td>0</td>\n",
              "      <td>7.2500</td>\n",
              "      <td>0</td>\n",
              "      <td>1</td>\n",
              "      <td>0</td>\n",
              "      <td>0</td>\n",
              "      <td>1</td>\n",
              "    </tr>\n",
              "    <tr>\n",
              "      <th>1</th>\n",
              "      <td>1</td>\n",
              "      <td>38.0</td>\n",
              "      <td>1</td>\n",
              "      <td>0</td>\n",
              "      <td>71.2833</td>\n",
              "      <td>1</td>\n",
              "      <td>0</td>\n",
              "      <td>1</td>\n",
              "      <td>0</td>\n",
              "      <td>0</td>\n",
              "    </tr>\n",
              "    <tr>\n",
              "      <th>2</th>\n",
              "      <td>3</td>\n",
              "      <td>26.0</td>\n",
              "      <td>0</td>\n",
              "      <td>0</td>\n",
              "      <td>7.9250</td>\n",
              "      <td>1</td>\n",
              "      <td>0</td>\n",
              "      <td>0</td>\n",
              "      <td>0</td>\n",
              "      <td>1</td>\n",
              "    </tr>\n",
              "    <tr>\n",
              "      <th>3</th>\n",
              "      <td>1</td>\n",
              "      <td>35.0</td>\n",
              "      <td>1</td>\n",
              "      <td>0</td>\n",
              "      <td>53.1000</td>\n",
              "      <td>1</td>\n",
              "      <td>0</td>\n",
              "      <td>0</td>\n",
              "      <td>0</td>\n",
              "      <td>1</td>\n",
              "    </tr>\n",
              "    <tr>\n",
              "      <th>4</th>\n",
              "      <td>3</td>\n",
              "      <td>35.0</td>\n",
              "      <td>0</td>\n",
              "      <td>0</td>\n",
              "      <td>8.0500</td>\n",
              "      <td>0</td>\n",
              "      <td>1</td>\n",
              "      <td>0</td>\n",
              "      <td>0</td>\n",
              "      <td>1</td>\n",
              "    </tr>\n",
              "  </tbody>\n",
              "</table>\n",
              "</div>"
            ],
            "text/plain": [
              "   Pclass   Age  SibSp  Parch  ...  Sex_male  Embarked_C  Embarked_Q  Embarked_S\n",
              "0       3  22.0      1      0  ...         1           0           0           1\n",
              "1       1  38.0      1      0  ...         0           1           0           0\n",
              "2       3  26.0      0      0  ...         0           0           0           1\n",
              "3       1  35.0      1      0  ...         0           0           0           1\n",
              "4       3  35.0      0      0  ...         1           0           0           1\n",
              "\n",
              "[5 rows x 10 columns]"
            ]
          },
          "metadata": {
            "tags": []
          },
          "execution_count": 85
        }
      ]
    },
    {
      "cell_type": "code",
      "metadata": {
        "id": "tBs1q5zZgsHp",
        "colab": {
          "base_uri": "https://localhost:8080/"
        },
        "outputId": "399644c6-b38c-4572-f2d8-bd3abeea5e65"
      },
      "source": [
        "X = X.fillna({'Age': X.Age.median()})\n",
        "X.isnull().sum()"
      ],
      "execution_count": null,
      "outputs": [
        {
          "output_type": "execute_result",
          "data": {
            "text/plain": [
              "Pclass        0\n",
              "Age           0\n",
              "SibSp         0\n",
              "Parch         0\n",
              "Fare          0\n",
              "Sex_female    0\n",
              "Sex_male      0\n",
              "Embarked_C    0\n",
              "Embarked_Q    0\n",
              "Embarked_S    0\n",
              "dtype: int64"
            ]
          },
          "metadata": {
            "tags": []
          },
          "execution_count": 86
        }
      ]
    },
    {
      "cell_type": "code",
      "metadata": {
        "id": "Z_IZxfMBgsHp"
      },
      "source": [
        "clf = tree.DecisionTreeClassifier(criterion='entropy')"
      ],
      "execution_count": null,
      "outputs": []
    },
    {
      "cell_type": "code",
      "metadata": {
        "id": "0PJXCWU7gsHq",
        "colab": {
          "base_uri": "https://localhost:8080/"
        },
        "outputId": "b74b811a-80c6-4381-9612-339a5a778a38"
      },
      "source": [
        "clf.fit(X, y)"
      ],
      "execution_count": null,
      "outputs": [
        {
          "output_type": "execute_result",
          "data": {
            "text/plain": [
              "DecisionTreeClassifier(ccp_alpha=0.0, class_weight=None, criterion='entropy',\n",
              "                       max_depth=None, max_features=None, max_leaf_nodes=None,\n",
              "                       min_impurity_decrease=0.0, min_impurity_split=None,\n",
              "                       min_samples_leaf=1, min_samples_split=2,\n",
              "                       min_weight_fraction_leaf=0.0, presort='deprecated',\n",
              "                       random_state=None, splitter='best')"
            ]
          },
          "metadata": {
            "tags": []
          },
          "execution_count": 88
        }
      ]
    },
    {
      "cell_type": "code",
      "metadata": {
        "id": "IjReP87wgsHq",
        "colab": {
          "base_uri": "https://localhost:8080/",
          "height": 1000
        },
        "outputId": "914f77fa-046d-420b-f5f5-fd8e5a773138"
      },
      "source": [
        "tree.plot_tree(clf.fit(X, y), )"
      ],
      "execution_count": null,
      "outputs": [
        {
          "output_type": "execute_result",
          "data": {
            "text/plain": [
              "[Text(143.54643415178572, 212.004, 'X[6] <= 0.5\\nentropy = 0.961\\nsamples = 891\\nvalue = [549, 342]'),\n",
              " Text(52.387232142857144, 201.132, 'X[0] <= 2.5\\nentropy = 0.824\\nsamples = 314\\nvalue = [81, 233]'),\n",
              " Text(20.327142857142857, 190.26, 'X[4] <= 28.856\\nentropy = 0.299\\nsamples = 170\\nvalue = [9, 161]'),\n",
              " Text(15.544285714285714, 179.388, 'X[4] <= 28.231\\nentropy = 0.469\\nsamples = 70\\nvalue = [7, 63]'),\n",
              " Text(13.152857142857144, 168.516, 'X[1] <= 23.5\\nentropy = 0.426\\nsamples = 69\\nvalue = [6, 63]'),\n",
              " Text(10.76142857142857, 157.644, 'entropy = 0.0\\nsamples = 15\\nvalue = [0, 15]'),\n",
              " Text(15.544285714285714, 157.644, 'X[1] <= 27.5\\nentropy = 0.503\\nsamples = 54\\nvalue = [6, 48]'),\n",
              " Text(9.565714285714286, 146.772, 'X[1] <= 25.5\\nentropy = 0.845\\nsamples = 11\\nvalue = [3, 8]'),\n",
              " Text(4.782857142857143, 135.9, 'X[4] <= 13.75\\nentropy = 0.592\\nsamples = 7\\nvalue = [1, 6]'),\n",
              " Text(2.3914285714285715, 125.02799999999999, 'entropy = 1.0\\nsamples = 2\\nvalue = [1, 1]'),\n",
              " Text(7.174285714285714, 125.02799999999999, 'entropy = 0.0\\nsamples = 5\\nvalue = [0, 5]'),\n",
              " Text(14.348571428571429, 135.9, 'X[4] <= 17.429\\nentropy = 1.0\\nsamples = 4\\nvalue = [2, 2]'),\n",
              " Text(11.957142857142857, 125.02799999999999, 'entropy = 0.0\\nsamples = 2\\nvalue = [0, 2]'),\n",
              " Text(16.740000000000002, 125.02799999999999, 'entropy = 0.0\\nsamples = 2\\nvalue = [2, 0]'),\n",
              " Text(21.52285714285714, 146.772, 'X[1] <= 37.0\\nentropy = 0.365\\nsamples = 43\\nvalue = [3, 40]'),\n",
              " Text(19.13142857142857, 135.9, 'entropy = 0.0\\nsamples = 24\\nvalue = [0, 24]'),\n",
              " Text(23.914285714285715, 135.9, 'X[1] <= 39.0\\nentropy = 0.629\\nsamples = 19\\nvalue = [3, 16]'),\n",
              " Text(21.52285714285714, 125.02799999999999, 'entropy = 0.0\\nsamples = 1\\nvalue = [1, 0]'),\n",
              " Text(26.305714285714288, 125.02799999999999, 'X[1] <= 56.0\\nentropy = 0.503\\nsamples = 18\\nvalue = [2, 16]'),\n",
              " Text(21.52285714285714, 114.156, 'X[2] <= 0.5\\nentropy = 0.337\\nsamples = 16\\nvalue = [1, 15]'),\n",
              " Text(19.13142857142857, 103.28399999999999, 'entropy = 0.0\\nsamples = 12\\nvalue = [0, 12]'),\n",
              " Text(23.914285714285715, 103.28399999999999, 'X[1] <= 44.5\\nentropy = 0.811\\nsamples = 4\\nvalue = [1, 3]'),\n",
              " Text(21.52285714285714, 92.412, 'X[1] <= 43.0\\nentropy = 1.0\\nsamples = 2\\nvalue = [1, 1]'),\n",
              " Text(19.13142857142857, 81.53999999999999, 'entropy = 0.0\\nsamples = 1\\nvalue = [0, 1]'),\n",
              " Text(23.914285714285715, 81.53999999999999, 'entropy = 0.0\\nsamples = 1\\nvalue = [1, 0]'),\n",
              " Text(26.305714285714288, 92.412, 'entropy = 0.0\\nsamples = 2\\nvalue = [0, 2]'),\n",
              " Text(31.088571428571427, 114.156, 'X[1] <= 57.5\\nentropy = 1.0\\nsamples = 2\\nvalue = [1, 1]'),\n",
              " Text(28.697142857142858, 103.28399999999999, 'entropy = 0.0\\nsamples = 1\\nvalue = [1, 0]'),\n",
              " Text(33.480000000000004, 103.28399999999999, 'entropy = 0.0\\nsamples = 1\\nvalue = [0, 1]'),\n",
              " Text(17.935714285714287, 168.516, 'entropy = 0.0\\nsamples = 1\\nvalue = [1, 0]'),\n",
              " Text(25.11, 179.388, 'X[1] <= 2.5\\nentropy = 0.141\\nsamples = 100\\nvalue = [2, 98]'),\n",
              " Text(22.71857142857143, 168.516, 'entropy = 0.0\\nsamples = 1\\nvalue = [1, 0]'),\n",
              " Text(27.501428571428573, 168.516, 'X[3] <= 1.5\\nentropy = 0.081\\nsamples = 99\\nvalue = [1, 98]'),\n",
              " Text(25.11, 157.644, 'entropy = 0.0\\nsamples = 84\\nvalue = [0, 84]'),\n",
              " Text(29.892857142857142, 157.644, 'X[1] <= 24.5\\nentropy = 0.353\\nsamples = 15\\nvalue = [1, 14]'),\n",
              " Text(27.501428571428573, 146.772, 'entropy = 0.0\\nsamples = 10\\nvalue = [0, 10]'),\n",
              " Text(32.284285714285716, 146.772, 'X[1] <= 28.0\\nentropy = 0.722\\nsamples = 5\\nvalue = [1, 4]'),\n",
              " Text(29.892857142857142, 135.9, 'entropy = 0.0\\nsamples = 1\\nvalue = [1, 0]'),\n",
              " Text(34.675714285714285, 135.9, 'entropy = 0.0\\nsamples = 4\\nvalue = [0, 4]'),\n",
              " Text(84.44732142857143, 190.26, 'X[4] <= 23.35\\nentropy = 1.0\\nsamples = 144\\nvalue = [72, 72]'),\n",
              " Text(75.62892857142857, 179.388, 'X[1] <= 36.5\\nentropy = 0.977\\nsamples = 117\\nvalue = [48, 69]'),\n",
              " Text(65.16642857142857, 168.516, 'X[9] <= 0.5\\nentropy = 0.959\\nsamples = 110\\nvalue = [42, 68]'),\n",
              " Text(51.41571428571429, 157.644, 'X[4] <= 15.621\\nentropy = 0.86\\nsamples = 53\\nvalue = [15, 38]'),\n",
              " Text(49.02428571428572, 146.772, 'X[4] <= 13.935\\nentropy = 0.918\\nsamples = 45\\nvalue = [15, 30]'),\n",
              " Text(40.65428571428571, 135.9, 'X[1] <= 17.0\\nentropy = 0.758\\nsamples = 32\\nvalue = [7, 25]'),\n",
              " Text(38.26285714285714, 125.02799999999999, 'entropy = 0.0\\nsamples = 7\\nvalue = [0, 7]'),\n",
              " Text(43.04571428571428, 125.02799999999999, 'X[3] <= 1.0\\nentropy = 0.855\\nsamples = 25\\nvalue = [7, 18]'),\n",
              " Text(40.65428571428571, 114.156, 'X[4] <= 6.987\\nentropy = 0.811\\nsamples = 24\\nvalue = [6, 18]'),\n",
              " Text(38.26285714285714, 103.28399999999999, 'entropy = 0.0\\nsamples = 1\\nvalue = [1, 0]'),\n",
              " Text(43.04571428571428, 103.28399999999999, 'X[4] <= 8.008\\nentropy = 0.755\\nsamples = 23\\nvalue = [5, 18]'),\n",
              " Text(40.65428571428571, 92.412, 'X[1] <= 29.25\\nentropy = 0.684\\nsamples = 22\\nvalue = [4, 18]'),\n",
              " Text(38.26285714285714, 81.53999999999999, 'X[4] <= 7.769\\nentropy = 0.592\\nsamples = 21\\nvalue = [3, 18]'),\n",
              " Text(35.871428571428574, 70.668, 'X[1] <= 21.5\\nentropy = 0.722\\nsamples = 15\\nvalue = [3, 12]'),\n",
              " Text(33.480000000000004, 59.79599999999999, 'entropy = 0.0\\nsamples = 1\\nvalue = [1, 0]'),\n",
              " Text(38.26285714285714, 59.79599999999999, 'X[4] <= 7.681\\nentropy = 0.592\\nsamples = 14\\nvalue = [2, 12]'),\n",
              " Text(33.480000000000004, 48.92400000000001, 'X[7] <= 0.5\\nentropy = 0.918\\nsamples = 3\\nvalue = [1, 2]'),\n",
              " Text(31.088571428571427, 38.05199999999999, 'entropy = 0.0\\nsamples = 1\\nvalue = [1, 0]'),\n",
              " Text(35.871428571428574, 38.05199999999999, 'entropy = 0.0\\nsamples = 2\\nvalue = [0, 2]'),\n",
              " Text(43.04571428571428, 48.92400000000001, 'X[4] <= 7.744\\nentropy = 0.439\\nsamples = 11\\nvalue = [1, 10]'),\n",
              " Text(40.65428571428571, 38.05199999999999, 'entropy = 0.0\\nsamples = 2\\nvalue = [0, 2]'),\n",
              " Text(45.43714285714286, 38.05199999999999, 'X[1] <= 25.0\\nentropy = 0.503\\nsamples = 9\\nvalue = [1, 8]'),\n",
              " Text(43.04571428571428, 27.180000000000007, 'entropy = 0.0\\nsamples = 1\\nvalue = [0, 1]'),\n",
              " Text(47.82857142857143, 27.180000000000007, 'entropy = 0.544\\nsamples = 8\\nvalue = [1, 7]'),\n",
              " Text(40.65428571428571, 70.668, 'entropy = 0.0\\nsamples = 6\\nvalue = [0, 6]'),\n",
              " Text(43.04571428571428, 81.53999999999999, 'entropy = 0.0\\nsamples = 1\\nvalue = [1, 0]'),\n",
              " Text(45.43714285714286, 92.412, 'entropy = 0.0\\nsamples = 1\\nvalue = [1, 0]'),\n",
              " Text(45.43714285714286, 114.156, 'entropy = 0.0\\nsamples = 1\\nvalue = [1, 0]'),\n",
              " Text(57.394285714285715, 135.9, 'X[7] <= 0.5\\nentropy = 0.961\\nsamples = 13\\nvalue = [8, 5]'),\n",
              " Text(52.611428571428576, 125.02799999999999, 'X[3] <= 0.5\\nentropy = 0.811\\nsamples = 4\\nvalue = [1, 3]'),\n",
              " Text(50.22, 114.156, 'entropy = 0.0\\nsamples = 3\\nvalue = [0, 3]'),\n",
              " Text(55.002857142857145, 114.156, 'entropy = 0.0\\nsamples = 1\\nvalue = [1, 0]'),\n",
              " Text(62.177142857142854, 125.02799999999999, 'X[1] <= 28.5\\nentropy = 0.764\\nsamples = 9\\nvalue = [7, 2]'),\n",
              " Text(59.785714285714285, 114.156, 'X[1] <= 16.0\\nentropy = 0.544\\nsamples = 8\\nvalue = [7, 1]'),\n",
              " Text(57.394285714285715, 103.28399999999999, 'X[1] <= 14.75\\nentropy = 0.918\\nsamples = 3\\nvalue = [2, 1]'),\n",
              " Text(55.002857142857145, 92.412, 'entropy = 0.0\\nsamples = 2\\nvalue = [2, 0]'),\n",
              " Text(59.785714285714285, 92.412, 'entropy = 0.0\\nsamples = 1\\nvalue = [0, 1]'),\n",
              " Text(62.177142857142854, 103.28399999999999, 'entropy = 0.0\\nsamples = 5\\nvalue = [5, 0]'),\n",
              " Text(64.56857142857143, 114.156, 'entropy = 0.0\\nsamples = 1\\nvalue = [0, 1]'),\n",
              " Text(53.80714285714286, 146.772, 'entropy = 0.0\\nsamples = 8\\nvalue = [0, 8]'),\n",
              " Text(78.91714285714286, 157.644, 'X[1] <= 32.0\\nentropy = 0.998\\nsamples = 57\\nvalue = [27, 30]'),\n",
              " Text(76.52571428571429, 146.772, 'X[4] <= 7.763\\nentropy = 1.0\\nsamples = 54\\nvalue = [27, 27]'),\n",
              " Text(69.35142857142857, 135.9, 'X[1] <= 25.5\\nentropy = 0.65\\nsamples = 6\\nvalue = [1, 5]'),\n",
              " Text(66.96000000000001, 125.02799999999999, 'entropy = 0.0\\nsamples = 5\\nvalue = [0, 5]'),\n",
              " Text(71.74285714285715, 125.02799999999999, 'entropy = 0.0\\nsamples = 1\\nvalue = [1, 0]'),\n",
              " Text(83.7, 135.9, 'X[4] <= 10.825\\nentropy = 0.995\\nsamples = 48\\nvalue = [26, 22]'),\n",
              " Text(76.52571428571429, 125.02799999999999, 'X[4] <= 10.152\\nentropy = 0.918\\nsamples = 27\\nvalue = [18, 9]'),\n",
              " Text(74.13428571428571, 114.156, 'X[3] <= 0.5\\nentropy = 0.954\\nsamples = 24\\nvalue = [15, 9]'),\n",
              " Text(71.74285714285715, 103.28399999999999, 'X[4] <= 9.84\\nentropy = 0.902\\nsamples = 22\\nvalue = [15, 7]'),\n",
              " Text(69.35142857142857, 92.412, 'X[4] <= 8.767\\nentropy = 0.863\\nsamples = 21\\nvalue = [15, 6]'),\n",
              " Text(66.96000000000001, 81.53999999999999, 'X[4] <= 8.673\\nentropy = 0.937\\nsamples = 17\\nvalue = [11, 6]'),\n",
              " Text(64.56857142857143, 70.668, 'X[1] <= 27.5\\nentropy = 0.896\\nsamples = 16\\nvalue = [11, 5]'),\n",
              " Text(62.177142857142854, 59.79599999999999, 'X[1] <= 25.5\\nentropy = 0.994\\nsamples = 11\\nvalue = [6, 5]'),\n",
              " Text(59.785714285714285, 48.92400000000001, 'X[4] <= 7.89\\nentropy = 0.811\\nsamples = 8\\nvalue = [6, 2]'),\n",
              " Text(57.394285714285715, 38.05199999999999, 'X[1] <= 18.5\\nentropy = 0.971\\nsamples = 5\\nvalue = [3, 2]'),\n",
              " Text(55.002857142857145, 27.180000000000007, 'entropy = 0.0\\nsamples = 2\\nvalue = [2, 0]'),\n",
              " Text(59.785714285714285, 27.180000000000007, 'X[1] <= 23.5\\nentropy = 0.918\\nsamples = 3\\nvalue = [1, 2]'),\n",
              " Text(57.394285714285715, 16.307999999999993, 'entropy = 0.0\\nsamples = 2\\nvalue = [0, 2]'),\n",
              " Text(62.177142857142854, 16.307999999999993, 'entropy = 0.0\\nsamples = 1\\nvalue = [1, 0]'),\n",
              " Text(62.177142857142854, 38.05199999999999, 'entropy = 0.0\\nsamples = 3\\nvalue = [3, 0]'),\n",
              " Text(64.56857142857143, 48.92400000000001, 'entropy = 0.0\\nsamples = 3\\nvalue = [0, 3]'),\n",
              " Text(66.96000000000001, 59.79599999999999, 'entropy = 0.0\\nsamples = 5\\nvalue = [5, 0]'),\n",
              " Text(69.35142857142857, 70.668, 'entropy = 0.0\\nsamples = 1\\nvalue = [0, 1]'),\n",
              " Text(71.74285714285715, 81.53999999999999, 'entropy = 0.0\\nsamples = 4\\nvalue = [4, 0]'),\n",
              " Text(74.13428571428571, 92.412, 'entropy = 0.0\\nsamples = 1\\nvalue = [0, 1]'),\n",
              " Text(76.52571428571429, 103.28399999999999, 'entropy = 0.0\\nsamples = 2\\nvalue = [0, 2]'),\n",
              " Text(78.91714285714286, 114.156, 'entropy = 0.0\\nsamples = 3\\nvalue = [3, 0]'),\n",
              " Text(90.87428571428572, 125.02799999999999, 'X[4] <= 17.25\\nentropy = 0.959\\nsamples = 21\\nvalue = [8, 13]'),\n",
              " Text(83.7, 114.156, 'X[2] <= 0.5\\nentropy = 0.619\\nsamples = 13\\nvalue = [2, 11]'),\n",
              " Text(81.30857142857143, 103.28399999999999, 'entropy = 0.0\\nsamples = 6\\nvalue = [0, 6]'),\n",
              " Text(86.09142857142857, 103.28399999999999, 'X[1] <= 25.0\\nentropy = 0.863\\nsamples = 7\\nvalue = [2, 5]'),\n",
              " Text(83.7, 92.412, 'entropy = 0.0\\nsamples = 3\\nvalue = [0, 3]'),\n",
              " Text(88.48285714285714, 92.412, 'X[3] <= 0.5\\nentropy = 1.0\\nsamples = 4\\nvalue = [2, 2]'),\n",
              " Text(86.09142857142857, 81.53999999999999, 'X[1] <= 27.0\\nentropy = 0.918\\nsamples = 3\\nvalue = [1, 2]'),\n",
              " Text(83.7, 70.668, 'entropy = 0.0\\nsamples = 1\\nvalue = [1, 0]'),\n",
              " Text(88.48285714285714, 70.668, 'entropy = 0.0\\nsamples = 2\\nvalue = [0, 2]'),\n",
              " Text(90.87428571428572, 81.53999999999999, 'entropy = 0.0\\nsamples = 1\\nvalue = [1, 0]'),\n",
              " Text(98.04857142857144, 114.156, 'X[4] <= 21.55\\nentropy = 0.811\\nsamples = 8\\nvalue = [6, 2]'),\n",
              " Text(95.65714285714286, 103.28399999999999, 'X[1] <= 30.0\\nentropy = 0.592\\nsamples = 7\\nvalue = [6, 1]'),\n",
              " Text(93.26571428571428, 92.412, 'entropy = 0.0\\nsamples = 5\\nvalue = [5, 0]'),\n",
              " Text(98.04857142857144, 92.412, 'X[4] <= 19.262\\nentropy = 1.0\\nsamples = 2\\nvalue = [1, 1]'),\n",
              " Text(95.65714285714286, 81.53999999999999, 'entropy = 0.0\\nsamples = 1\\nvalue = [1, 0]'),\n",
              " Text(100.44, 81.53999999999999, 'entropy = 0.0\\nsamples = 1\\nvalue = [0, 1]'),\n",
              " Text(100.44, 103.28399999999999, 'entropy = 0.0\\nsamples = 1\\nvalue = [0, 1]'),\n",
              " Text(81.30857142857143, 146.772, 'entropy = 0.0\\nsamples = 3\\nvalue = [0, 3]'),\n",
              " Text(86.09142857142857, 168.516, 'X[1] <= 55.0\\nentropy = 0.592\\nsamples = 7\\nvalue = [6, 1]'),\n",
              " Text(83.7, 157.644, 'entropy = 0.0\\nsamples = 6\\nvalue = [6, 0]'),\n",
              " Text(88.48285714285714, 157.644, 'entropy = 0.0\\nsamples = 1\\nvalue = [0, 1]'),\n",
              " Text(93.26571428571428, 179.388, 'X[3] <= 0.5\\nentropy = 0.503\\nsamples = 27\\nvalue = [24, 3]'),\n",
              " Text(90.87428571428572, 168.516, 'entropy = 0.0\\nsamples = 1\\nvalue = [0, 1]'),\n",
              " Text(95.65714285714286, 168.516, 'X[4] <= 31.331\\nentropy = 0.391\\nsamples = 26\\nvalue = [24, 2]'),\n",
              " Text(93.26571428571428, 157.644, 'entropy = 0.0\\nsamples = 15\\nvalue = [15, 0]'),\n",
              " Text(98.04857142857144, 157.644, 'X[4] <= 32.881\\nentropy = 0.684\\nsamples = 11\\nvalue = [9, 2]'),\n",
              " Text(95.65714285714286, 146.772, 'entropy = 0.0\\nsamples = 2\\nvalue = [0, 2]'),\n",
              " Text(100.44, 146.772, 'entropy = 0.0\\nsamples = 9\\nvalue = [9, 0]'),\n",
              " Text(234.70563616071428, 201.132, 'X[4] <= 26.269\\nentropy = 0.699\\nsamples = 577\\nvalue = [468, 109]'),\n",
              " Text(169.36171875, 190.26, 'X[1] <= 13.5\\nentropy = 0.558\\nsamples = 415\\nvalue = [361, 54]'),\n",
              " Text(129.735, 179.388, 'X[2] <= 2.0\\nentropy = 0.567\\nsamples = 15\\nvalue = [2, 13]'),\n",
              " Text(127.34357142857144, 168.516, 'X[3] <= 0.5\\nentropy = 0.371\\nsamples = 14\\nvalue = [1, 13]'),\n",
              " Text(124.95214285714286, 157.644, 'X[2] <= 0.5\\nentropy = 1.0\\nsamples = 2\\nvalue = [1, 1]'),\n",
              " Text(122.56071428571428, 146.772, 'entropy = 0.0\\nsamples = 1\\nvalue = [1, 0]'),\n",
              " Text(127.34357142857144, 146.772, 'entropy = 0.0\\nsamples = 1\\nvalue = [0, 1]'),\n",
              " Text(129.735, 157.644, 'entropy = 0.0\\nsamples = 12\\nvalue = [0, 12]'),\n",
              " Text(132.12642857142856, 168.516, 'entropy = 0.0\\nsamples = 1\\nvalue = [1, 0]'),\n",
              " Text(208.9884375, 179.388, 'X[7] <= 0.5\\nentropy = 0.477\\nsamples = 400\\nvalue = [359, 41]'),\n",
              " Text(180.02973214285714, 168.516, 'X[4] <= 13.25\\nentropy = 0.437\\nsamples = 355\\nvalue = [323, 32]'),\n",
              " Text(153.20089285714286, 157.644, 'X[4] <= 7.91\\nentropy = 0.479\\nsamples = 291\\nvalue = [261, 30]'),\n",
              " Text(132.12642857142856, 146.772, 'X[4] <= 7.865\\nentropy = 0.353\\nsamples = 150\\nvalue = [140, 10]'),\n",
              " Text(129.735, 135.9, 'X[1] <= 32.5\\nentropy = 0.424\\nsamples = 116\\nvalue = [106, 10]'),\n",
              " Text(127.34357142857144, 125.02799999999999, 'X[1] <= 20.75\\nentropy = 0.507\\nsamples = 89\\nvalue = [79, 10]'),\n",
              " Text(124.95214285714286, 114.156, 'entropy = 0.0\\nsamples = 16\\nvalue = [16, 0]'),\n",
              " Text(129.735, 114.156, 'X[4] <= 7.763\\nentropy = 0.576\\nsamples = 73\\nvalue = [63, 10]'),\n",
              " Text(113.59285714285714, 103.28399999999999, 'X[1] <= 27.5\\nentropy = 0.451\\nsamples = 53\\nvalue = [48, 5]'),\n",
              " Text(107.61428571428571, 92.412, 'X[4] <= 7.013\\nentropy = 0.672\\nsamples = 17\\nvalue = [14, 3]'),\n",
              " Text(105.22285714285715, 81.53999999999999, 'entropy = 0.0\\nsamples = 2\\nvalue = [0, 2]'),\n",
              " Text(110.00571428571429, 81.53999999999999, 'X[4] <= 7.196\\nentropy = 0.353\\nsamples = 15\\nvalue = [14, 1]'),\n",
              " Text(107.61428571428571, 70.668, 'X[4] <= 7.133\\nentropy = 0.722\\nsamples = 5\\nvalue = [4, 1]'),\n",
              " Text(105.22285714285715, 59.79599999999999, 'entropy = 0.0\\nsamples = 4\\nvalue = [4, 0]'),\n",
              " Text(110.00571428571429, 59.79599999999999, 'entropy = 0.0\\nsamples = 1\\nvalue = [0, 1]'),\n",
              " Text(112.39714285714285, 70.668, 'entropy = 0.0\\nsamples = 10\\nvalue = [10, 0]'),\n",
              " Text(119.57142857142857, 92.412, 'X[4] <= 7.744\\nentropy = 0.31\\nsamples = 36\\nvalue = [34, 2]'),\n",
              " Text(117.18, 81.53999999999999, 'entropy = 0.0\\nsamples = 22\\nvalue = [22, 0]'),\n",
              " Text(121.96285714285715, 81.53999999999999, 'X[1] <= 28.5\\nentropy = 0.592\\nsamples = 14\\nvalue = [12, 2]'),\n",
              " Text(117.18, 70.668, 'X[2] <= 0.5\\nentropy = 0.439\\nsamples = 11\\nvalue = [10, 1]'),\n",
              " Text(114.78857142857143, 59.79599999999999, 'entropy = 0.469\\nsamples = 10\\nvalue = [9, 1]'),\n",
              " Text(119.57142857142857, 59.79599999999999, 'entropy = 0.0\\nsamples = 1\\nvalue = [1, 0]'),\n",
              " Text(126.74571428571429, 70.668, 'X[1] <= 30.0\\nentropy = 0.918\\nsamples = 3\\nvalue = [2, 1]'),\n",
              " Text(124.35428571428571, 59.79599999999999, 'entropy = 0.0\\nsamples = 1\\nvalue = [0, 1]'),\n",
              " Text(129.13714285714286, 59.79599999999999, 'entropy = 0.0\\nsamples = 2\\nvalue = [2, 0]'),\n",
              " Text(145.87714285714287, 103.28399999999999, 'X[1] <= 31.5\\nentropy = 0.811\\nsamples = 20\\nvalue = [15, 5]'),\n",
              " Text(143.4857142857143, 92.412, 'X[4] <= 7.798\\nentropy = 0.742\\nsamples = 19\\nvalue = [15, 4]'),\n",
              " Text(141.09428571428572, 81.53999999999999, 'X[1] <= 28.5\\nentropy = 0.89\\nsamples = 13\\nvalue = [9, 4]'),\n",
              " Text(138.70285714285714, 70.668, 'X[1] <= 26.5\\nentropy = 0.946\\nsamples = 11\\nvalue = [7, 4]'),\n",
              " Text(133.92000000000002, 59.79599999999999, 'X[1] <= 25.5\\nentropy = 0.863\\nsamples = 7\\nvalue = [5, 2]'),\n",
              " Text(131.52857142857144, 48.92400000000001, 'X[1] <= 21.5\\nentropy = 0.918\\nsamples = 6\\nvalue = [4, 2]'),\n",
              " Text(126.74571428571429, 38.05199999999999, 'X[4] <= 7.785\\nentropy = 1.0\\nsamples = 2\\nvalue = [1, 1]'),\n",
              " Text(124.35428571428571, 27.180000000000007, 'entropy = 0.0\\nsamples = 1\\nvalue = [1, 0]'),\n",
              " Text(129.13714285714286, 27.180000000000007, 'entropy = 0.0\\nsamples = 1\\nvalue = [0, 1]'),\n",
              " Text(136.31142857142856, 38.05199999999999, 'X[2] <= 0.5\\nentropy = 0.811\\nsamples = 4\\nvalue = [3, 1]'),\n",
              " Text(133.92000000000002, 27.180000000000007, 'entropy = 0.0\\nsamples = 2\\nvalue = [2, 0]'),\n",
              " Text(138.70285714285714, 27.180000000000007, 'entropy = 1.0\\nsamples = 2\\nvalue = [1, 1]'),\n",
              " Text(136.31142857142856, 48.92400000000001, 'entropy = 0.0\\nsamples = 1\\nvalue = [1, 0]'),\n",
              " Text(143.4857142857143, 59.79599999999999, 'X[1] <= 27.5\\nentropy = 1.0\\nsamples = 4\\nvalue = [2, 2]'),\n",
              " Text(141.09428571428572, 48.92400000000001, 'entropy = 0.0\\nsamples = 1\\nvalue = [0, 1]'),\n",
              " Text(145.87714285714287, 48.92400000000001, 'X[4] <= 7.785\\nentropy = 0.918\\nsamples = 3\\nvalue = [2, 1]'),\n",
              " Text(143.4857142857143, 38.05199999999999, 'entropy = 1.0\\nsamples = 2\\nvalue = [1, 1]'),\n",
              " Text(148.26857142857142, 38.05199999999999, 'entropy = 0.0\\nsamples = 1\\nvalue = [1, 0]'),\n",
              " Text(143.4857142857143, 70.668, 'entropy = 0.0\\nsamples = 2\\nvalue = [2, 0]'),\n",
              " Text(145.87714285714287, 81.53999999999999, 'entropy = 0.0\\nsamples = 6\\nvalue = [6, 0]'),\n",
              " Text(148.26857142857142, 92.412, 'entropy = 0.0\\nsamples = 1\\nvalue = [0, 1]'),\n",
              " Text(132.12642857142856, 125.02799999999999, 'entropy = 0.0\\nsamples = 27\\nvalue = [27, 0]'),\n",
              " Text(134.51785714285714, 135.9, 'entropy = 0.0\\nsamples = 34\\nvalue = [34, 0]'),\n",
              " Text(174.27535714285713, 146.772, 'X[4] <= 7.988\\nentropy = 0.589\\nsamples = 141\\nvalue = [121, 20]'),\n",
              " Text(162.61714285714285, 135.9, 'X[2] <= 1.5\\nentropy = 0.961\\nsamples = 13\\nvalue = [8, 5]'),\n",
              " Text(160.22571428571428, 125.02799999999999, 'X[1] <= 41.5\\nentropy = 0.994\\nsamples = 11\\nvalue = [6, 5]'),\n",
              " Text(157.83428571428573, 114.156, 'X[2] <= 0.5\\nentropy = 0.971\\nsamples = 10\\nvalue = [6, 4]'),\n",
              " Text(155.44285714285715, 103.28399999999999, 'X[1] <= 26.0\\nentropy = 0.918\\nsamples = 9\\nvalue = [6, 3]'),\n",
              " Text(153.05142857142857, 92.412, 'entropy = 0.0\\nsamples = 3\\nvalue = [3, 0]'),\n",
              " Text(157.83428571428573, 92.412, 'X[1] <= 31.5\\nentropy = 1.0\\nsamples = 6\\nvalue = [3, 3]'),\n",
              " Text(155.44285714285715, 81.53999999999999, 'entropy = 0.0\\nsamples = 1\\nvalue = [0, 1]'),\n",
              " Text(160.22571428571428, 81.53999999999999, 'X[1] <= 35.5\\nentropy = 0.971\\nsamples = 5\\nvalue = [3, 2]'),\n",
              " Text(157.83428571428573, 70.668, 'entropy = 0.918\\nsamples = 3\\nvalue = [2, 1]'),\n",
              " Text(162.61714285714285, 70.668, 'entropy = 1.0\\nsamples = 2\\nvalue = [1, 1]'),\n",
              " Text(160.22571428571428, 103.28399999999999, 'entropy = 0.0\\nsamples = 1\\nvalue = [0, 1]'),\n",
              " Text(162.61714285714285, 114.156, 'entropy = 0.0\\nsamples = 1\\nvalue = [0, 1]'),\n",
              " Text(165.00857142857143, 125.02799999999999, 'entropy = 0.0\\nsamples = 2\\nvalue = [2, 0]'),\n",
              " Text(185.93357142857144, 135.9, 'X[1] <= 19.5\\nentropy = 0.521\\nsamples = 128\\nvalue = [113, 15]'),\n",
              " Text(172.18285714285713, 125.02799999999999, 'X[4] <= 8.104\\nentropy = 0.722\\nsamples = 20\\nvalue = [16, 4]'),\n",
              " Text(167.4, 114.156, 'X[1] <= 17.0\\nentropy = 0.971\\nsamples = 5\\nvalue = [2, 3]'),\n",
              " Text(165.00857142857143, 103.28399999999999, 'entropy = 1.0\\nsamples = 2\\nvalue = [1, 1]'),\n",
              " Text(169.79142857142858, 103.28399999999999, 'X[1] <= 18.5\\nentropy = 0.918\\nsamples = 3\\nvalue = [1, 2]'),\n",
              " Text(167.4, 92.412, 'entropy = 0.0\\nsamples = 1\\nvalue = [0, 1]'),\n",
              " Text(172.18285714285713, 92.412, 'entropy = 1.0\\nsamples = 2\\nvalue = [1, 1]'),\n",
              " Text(176.96571428571428, 114.156, 'X[1] <= 18.5\\nentropy = 0.353\\nsamples = 15\\nvalue = [14, 1]'),\n",
              " Text(174.5742857142857, 103.28399999999999, 'entropy = 0.0\\nsamples = 10\\nvalue = [10, 0]'),\n",
              " Text(179.35714285714286, 103.28399999999999, 'X[4] <= 10.335\\nentropy = 0.722\\nsamples = 5\\nvalue = [4, 1]'),\n",
              " Text(176.96571428571428, 92.412, 'entropy = 0.0\\nsamples = 2\\nvalue = [2, 0]'),\n",
              " Text(181.74857142857144, 92.412, 'X[4] <= 11.75\\nentropy = 0.918\\nsamples = 3\\nvalue = [2, 1]'),\n",
              " Text(179.35714285714286, 81.53999999999999, 'entropy = 1.0\\nsamples = 2\\nvalue = [1, 1]'),\n",
              " Text(184.14000000000001, 81.53999999999999, 'entropy = 0.0\\nsamples = 1\\nvalue = [1, 0]'),\n",
              " Text(199.68428571428572, 125.02799999999999, 'X[1] <= 26.5\\nentropy = 0.475\\nsamples = 108\\nvalue = [97, 11]'),\n",
              " Text(197.29285714285714, 114.156, 'entropy = 0.0\\nsamples = 31\\nvalue = [31, 0]'),\n",
              " Text(202.0757142857143, 114.156, 'X[4] <= 8.081\\nentropy = 0.592\\nsamples = 77\\nvalue = [66, 11]'),\n",
              " Text(188.92285714285714, 103.28399999999999, 'X[1] <= 31.25\\nentropy = 0.371\\nsamples = 28\\nvalue = [26, 2]'),\n",
              " Text(186.53142857142856, 92.412, 'entropy = 0.0\\nsamples = 16\\nvalue = [16, 0]'),\n",
              " Text(191.31428571428572, 92.412, 'X[1] <= 33.0\\nentropy = 0.65\\nsamples = 12\\nvalue = [10, 2]'),\n",
              " Text(188.92285714285714, 81.53999999999999, 'entropy = 0.0\\nsamples = 1\\nvalue = [0, 1]'),\n",
              " Text(193.7057142857143, 81.53999999999999, 'X[1] <= 44.5\\nentropy = 0.439\\nsamples = 11\\nvalue = [10, 1]'),\n",
              " Text(191.31428571428572, 70.668, 'entropy = 0.0\\nsamples = 7\\nvalue = [7, 0]'),\n",
              " Text(196.09714285714287, 70.668, 'X[1] <= 47.5\\nentropy = 0.811\\nsamples = 4\\nvalue = [3, 1]'),\n",
              " Text(193.7057142857143, 59.79599999999999, 'entropy = 0.0\\nsamples = 1\\nvalue = [0, 1]'),\n",
              " Text(198.48857142857142, 59.79599999999999, 'entropy = 0.0\\nsamples = 3\\nvalue = [3, 0]'),\n",
              " Text(215.22857142857143, 103.28399999999999, 'X[4] <= 8.238\\nentropy = 0.688\\nsamples = 49\\nvalue = [40, 9]'),\n",
              " Text(212.83714285714285, 92.412, 'entropy = 0.0\\nsamples = 1\\nvalue = [0, 1]'),\n",
              " Text(217.62, 92.412, 'X[4] <= 8.658\\nentropy = 0.65\\nsamples = 48\\nvalue = [40, 8]'),\n",
              " Text(215.22857142857143, 81.53999999999999, 'entropy = 0.0\\nsamples = 4\\nvalue = [4, 0]'),\n",
              " Text(220.01142857142858, 81.53999999999999, 'X[1] <= 31.5\\nentropy = 0.684\\nsamples = 44\\nvalue = [36, 8]'),\n",
              " Text(208.05428571428573, 70.668, 'X[0] <= 2.5\\nentropy = 0.811\\nsamples = 20\\nvalue = [15, 5]'),\n",
              " Text(203.27142857142857, 59.79599999999999, 'X[4] <= 11.75\\nentropy = 0.65\\nsamples = 12\\nvalue = [10, 2]'),\n",
              " Text(200.88, 48.92400000000001, 'entropy = 0.0\\nsamples = 4\\nvalue = [4, 0]'),\n",
              " Text(205.66285714285715, 48.92400000000001, 'X[1] <= 30.5\\nentropy = 0.811\\nsamples = 8\\nvalue = [6, 2]'),\n",
              " Text(203.27142857142857, 38.05199999999999, 'X[1] <= 29.0\\nentropy = 0.592\\nsamples = 7\\nvalue = [6, 1]'),\n",
              " Text(200.88, 27.180000000000007, 'X[1] <= 27.5\\nentropy = 0.811\\nsamples = 4\\nvalue = [3, 1]'),\n",
              " Text(198.48857142857142, 16.307999999999993, 'entropy = 0.0\\nsamples = 2\\nvalue = [2, 0]'),\n",
              " Text(203.27142857142857, 16.307999999999993, 'entropy = 1.0\\nsamples = 2\\nvalue = [1, 1]'),\n",
              " Text(205.66285714285715, 27.180000000000007, 'entropy = 0.0\\nsamples = 3\\nvalue = [3, 0]'),\n",
              " Text(208.05428571428573, 38.05199999999999, 'entropy = 0.0\\nsamples = 1\\nvalue = [0, 1]'),\n",
              " Text(212.83714285714285, 59.79599999999999, 'X[1] <= 27.5\\nentropy = 0.954\\nsamples = 8\\nvalue = [5, 3]'),\n",
              " Text(210.4457142857143, 48.92400000000001, 'entropy = 0.0\\nsamples = 1\\nvalue = [0, 1]'),\n",
              " Text(215.22857142857143, 48.92400000000001, 'X[1] <= 28.5\\nentropy = 0.863\\nsamples = 7\\nvalue = [5, 2]'),\n",
              " Text(212.83714285714285, 38.05199999999999, 'entropy = 0.0\\nsamples = 4\\nvalue = [4, 0]'),\n",
              " Text(217.62, 38.05199999999999, 'X[4] <= 9.492\\nentropy = 0.918\\nsamples = 3\\nvalue = [1, 2]'),\n",
              " Text(215.22857142857143, 27.180000000000007, 'entropy = 0.0\\nsamples = 1\\nvalue = [1, 0]'),\n",
              " Text(220.01142857142858, 27.180000000000007, 'entropy = 0.0\\nsamples = 2\\nvalue = [0, 2]'),\n",
              " Text(231.96857142857144, 70.668, 'X[0] <= 2.5\\nentropy = 0.544\\nsamples = 24\\nvalue = [21, 3]'),\n",
              " Text(229.57714285714286, 59.79599999999999, 'X[1] <= 59.5\\nentropy = 0.61\\nsamples = 20\\nvalue = [17, 3]'),\n",
              " Text(224.7942857142857, 48.92400000000001, 'X[4] <= 12.762\\nentropy = 0.523\\nsamples = 17\\nvalue = [15, 2]'),\n",
              " Text(222.40285714285716, 38.05199999999999, 'entropy = 0.0\\nsamples = 6\\nvalue = [6, 0]'),\n",
              " Text(227.18571428571428, 38.05199999999999, 'X[1] <= 45.0\\nentropy = 0.684\\nsamples = 11\\nvalue = [9, 2]'),\n",
              " Text(224.7942857142857, 27.180000000000007, 'X[1] <= 40.5\\nentropy = 0.811\\nsamples = 8\\nvalue = [6, 2]'),\n",
              " Text(222.40285714285716, 16.307999999999993, 'X[1] <= 35.0\\nentropy = 0.65\\nsamples = 6\\nvalue = [5, 1]'),\n",
              " Text(220.01142857142858, 5.436000000000007, 'entropy = 0.918\\nsamples = 3\\nvalue = [2, 1]'),\n",
              " Text(224.7942857142857, 5.436000000000007, 'entropy = 0.0\\nsamples = 3\\nvalue = [3, 0]'),\n",
              " Text(227.18571428571428, 16.307999999999993, 'entropy = 1.0\\nsamples = 2\\nvalue = [1, 1]'),\n",
              " Text(229.57714285714286, 27.180000000000007, 'entropy = 0.0\\nsamples = 3\\nvalue = [3, 0]'),\n",
              " Text(234.36, 48.92400000000001, 'X[1] <= 64.0\\nentropy = 0.918\\nsamples = 3\\nvalue = [2, 1]'),\n",
              " Text(231.96857142857144, 38.05199999999999, 'entropy = 0.0\\nsamples = 1\\nvalue = [0, 1]'),\n",
              " Text(236.75142857142856, 38.05199999999999, 'entropy = 0.0\\nsamples = 2\\nvalue = [2, 0]'),\n",
              " Text(234.36, 59.79599999999999, 'entropy = 0.0\\nsamples = 4\\nvalue = [4, 0]'),\n",
              " Text(206.85857142857142, 157.644, 'X[4] <= 22.887\\nentropy = 0.201\\nsamples = 64\\nvalue = [62, 2]'),\n",
              " Text(204.46714285714285, 146.772, 'entropy = 0.0\\nsamples = 37\\nvalue = [37, 0]'),\n",
              " Text(209.25, 146.772, 'X[4] <= 23.35\\nentropy = 0.381\\nsamples = 27\\nvalue = [25, 2]'),\n",
              " Text(206.85857142857142, 135.9, 'entropy = 0.0\\nsamples = 1\\nvalue = [0, 1]'),\n",
              " Text(211.64142857142858, 135.9, 'X[1] <= 33.0\\nentropy = 0.235\\nsamples = 26\\nvalue = [25, 1]'),\n",
              " Text(209.25, 125.02799999999999, 'X[1] <= 31.5\\nentropy = 0.414\\nsamples = 12\\nvalue = [11, 1]'),\n",
              " Text(206.85857142857142, 114.156, 'entropy = 0.0\\nsamples = 11\\nvalue = [11, 0]'),\n",
              " Text(211.64142857142858, 114.156, 'entropy = 0.0\\nsamples = 1\\nvalue = [0, 1]'),\n",
              " Text(214.03285714285715, 125.02799999999999, 'entropy = 0.0\\nsamples = 14\\nvalue = [14, 0]'),\n",
              " Text(237.94714285714286, 168.516, 'X[4] <= 15.148\\nentropy = 0.722\\nsamples = 45\\nvalue = [36, 9]'),\n",
              " Text(233.1642857142857, 157.644, 'X[1] <= 29.5\\nentropy = 0.552\\nsamples = 39\\nvalue = [34, 5]'),\n",
              " Text(230.77285714285713, 146.772, 'X[1] <= 28.75\\nentropy = 0.65\\nsamples = 30\\nvalue = [25, 5]'),\n",
              " Text(228.3814285714286, 135.9, 'X[1] <= 22.5\\nentropy = 0.579\\nsamples = 29\\nvalue = [25, 4]'),\n",
              " Text(220.01142857142858, 125.02799999999999, 'X[1] <= 18.5\\nentropy = 0.918\\nsamples = 6\\nvalue = [4, 2]'),\n",
              " Text(217.62, 114.156, 'entropy = 0.0\\nsamples = 2\\nvalue = [2, 0]'),\n",
              " Text(222.40285714285716, 114.156, 'X[4] <= 5.619\\nentropy = 1.0\\nsamples = 4\\nvalue = [2, 2]'),\n",
              " Text(220.01142857142858, 103.28399999999999, 'entropy = 0.0\\nsamples = 1\\nvalue = [1, 0]'),\n",
              " Text(224.7942857142857, 103.28399999999999, 'X[1] <= 21.0\\nentropy = 0.918\\nsamples = 3\\nvalue = [1, 2]'),\n",
              " Text(222.40285714285716, 92.412, 'entropy = 0.0\\nsamples = 1\\nvalue = [0, 1]'),\n",
              " Text(227.18571428571428, 92.412, 'X[4] <= 7.227\\nentropy = 1.0\\nsamples = 2\\nvalue = [1, 1]'),\n",
              " Text(224.7942857142857, 81.53999999999999, 'entropy = 0.0\\nsamples = 1\\nvalue = [0, 1]'),\n",
              " Text(229.57714285714286, 81.53999999999999, 'entropy = 0.0\\nsamples = 1\\nvalue = [1, 0]'),\n",
              " Text(236.75142857142856, 125.02799999999999, 'X[0] <= 2.5\\nentropy = 0.426\\nsamples = 23\\nvalue = [21, 2]'),\n",
              " Text(231.96857142857144, 114.156, 'X[4] <= 14.454\\nentropy = 0.918\\nsamples = 3\\nvalue = [2, 1]'),\n",
              " Text(229.57714285714286, 103.28399999999999, 'entropy = 0.0\\nsamples = 1\\nvalue = [0, 1]'),\n",
              " Text(234.36, 103.28399999999999, 'entropy = 0.0\\nsamples = 2\\nvalue = [2, 0]'),\n",
              " Text(241.53428571428572, 114.156, 'X[4] <= 7.227\\nentropy = 0.286\\nsamples = 20\\nvalue = [19, 1]'),\n",
              " Text(239.14285714285714, 103.28399999999999, 'entropy = 0.0\\nsamples = 6\\nvalue = [6, 0]'),\n",
              " Text(243.9257142857143, 103.28399999999999, 'X[4] <= 7.562\\nentropy = 0.371\\nsamples = 14\\nvalue = [13, 1]'),\n",
              " Text(241.53428571428572, 92.412, 'X[1] <= 25.75\\nentropy = 0.544\\nsamples = 8\\nvalue = [7, 1]'),\n",
              " Text(239.14285714285714, 81.53999999999999, 'entropy = 0.0\\nsamples = 1\\nvalue = [1, 0]'),\n",
              " Text(243.9257142857143, 81.53999999999999, 'X[1] <= 28.25\\nentropy = 0.592\\nsamples = 7\\nvalue = [6, 1]'),\n",
              " Text(241.53428571428572, 70.668, 'entropy = 0.65\\nsamples = 6\\nvalue = [5, 1]'),\n",
              " Text(246.31714285714287, 70.668, 'entropy = 0.0\\nsamples = 1\\nvalue = [1, 0]'),\n",
              " Text(246.31714285714287, 92.412, 'entropy = 0.0\\nsamples = 6\\nvalue = [6, 0]'),\n",
              " Text(233.1642857142857, 135.9, 'entropy = 0.0\\nsamples = 1\\nvalue = [0, 1]'),\n",
              " Text(235.5557142857143, 146.772, 'entropy = 0.0\\nsamples = 9\\nvalue = [9, 0]'),\n",
              " Text(242.73, 157.644, 'X[4] <= 20.233\\nentropy = 0.918\\nsamples = 6\\nvalue = [2, 4]'),\n",
              " Text(240.33857142857144, 146.772, 'entropy = 0.0\\nsamples = 4\\nvalue = [0, 4]'),\n",
              " Text(245.12142857142857, 146.772, 'entropy = 0.0\\nsamples = 2\\nvalue = [2, 0]'),\n",
              " Text(300.0495535714286, 190.26, 'X[2] <= 2.5\\nentropy = 0.924\\nsamples = 162\\nvalue = [107, 55]'),\n",
              " Text(292.8752678571429, 179.388, 'X[1] <= 13.5\\nentropy = 0.964\\nsamples = 139\\nvalue = [85, 54]'),\n",
              " Text(290.4838392857143, 168.516, 'entropy = 0.0\\nsamples = 7\\nvalue = [0, 7]'),\n",
              " Text(295.26669642857144, 168.516, 'X[4] <= 26.469\\nentropy = 0.939\\nsamples = 132\\nvalue = [85, 47]'),\n",
              " Text(292.8752678571429, 157.644, 'entropy = 0.0\\nsamples = 4\\nvalue = [0, 4]'),\n",
              " Text(297.658125, 157.644, 'X[1] <= 53.0\\nentropy = 0.921\\nsamples = 128\\nvalue = [85, 43]'),\n",
              " Text(265.29910714285717, 146.772, 'X[4] <= 26.775\\nentropy = 0.956\\nsamples = 106\\nvalue = [66, 40]'),\n",
              " Text(255.88285714285715, 135.9, 'X[1] <= 46.5\\nentropy = 0.764\\nsamples = 9\\nvalue = [2, 7]'),\n",
              " Text(253.49142857142857, 125.02799999999999, 'X[9] <= 0.5\\nentropy = 0.863\\nsamples = 7\\nvalue = [2, 5]'),\n",
              " Text(251.1, 114.156, 'entropy = 0.0\\nsamples = 1\\nvalue = [0, 1]'),\n",
              " Text(255.88285714285715, 114.156, 'X[1] <= 39.5\\nentropy = 0.918\\nsamples = 6\\nvalue = [2, 4]'),\n",
              " Text(253.49142857142857, 103.28399999999999, 'X[1] <= 31.0\\nentropy = 0.811\\nsamples = 4\\nvalue = [1, 3]'),\n",
              " Text(251.1, 92.412, 'entropy = 0.918\\nsamples = 3\\nvalue = [1, 2]'),\n",
              " Text(255.88285714285715, 92.412, 'entropy = 0.0\\nsamples = 1\\nvalue = [0, 1]'),\n",
              " Text(258.2742857142857, 103.28399999999999, 'entropy = 1.0\\nsamples = 2\\nvalue = [1, 1]'),\n",
              " Text(258.2742857142857, 125.02799999999999, 'entropy = 0.0\\nsamples = 2\\nvalue = [0, 2]'),\n",
              " Text(274.71535714285716, 135.9, 'X[4] <= 29.1\\nentropy = 0.925\\nsamples = 97\\nvalue = [64, 33]'),\n",
              " Text(272.32392857142855, 125.02799999999999, 'entropy = 0.0\\nsamples = 9\\nvalue = [9, 0]'),\n",
              " Text(277.1067857142857, 125.02799999999999, 'X[4] <= 30.598\\nentropy = 0.954\\nsamples = 88\\nvalue = [55, 33]'),\n",
              " Text(265.4485714285714, 114.156, 'X[1] <= 28.5\\nentropy = 0.881\\nsamples = 10\\nvalue = [3, 7]'),\n",
              " Text(263.0571428571429, 103.28399999999999, 'entropy = 0.0\\nsamples = 5\\nvalue = [0, 5]'),\n",
              " Text(267.84000000000003, 103.28399999999999, 'X[4] <= 30.285\\nentropy = 0.971\\nsamples = 5\\nvalue = [3, 2]'),\n",
              " Text(265.4485714285714, 92.412, 'entropy = 0.0\\nsamples = 3\\nvalue = [3, 0]'),\n",
              " Text(270.2314285714286, 92.412, 'entropy = 0.0\\nsamples = 2\\nvalue = [0, 2]'),\n",
              " Text(288.765, 114.156, 'X[4] <= 52.277\\nentropy = 0.918\\nsamples = 78\\nvalue = [52, 26]'),\n",
              " Text(277.4057142857143, 103.28399999999999, 'X[1] <= 47.5\\nentropy = 0.619\\nsamples = 26\\nvalue = [22, 4]'),\n",
              " Text(275.01428571428573, 92.412, 'X[4] <= 36.125\\nentropy = 0.529\\nsamples = 25\\nvalue = [22, 3]'),\n",
              " Text(272.62285714285713, 81.53999999999999, 'X[4] <= 35.25\\nentropy = 0.845\\nsamples = 11\\nvalue = [8, 3]'),\n",
              " Text(267.84000000000003, 70.668, 'X[9] <= 0.5\\nentropy = 0.544\\nsamples = 8\\nvalue = [7, 1]'),\n",
              " Text(265.4485714285714, 59.79599999999999, 'X[4] <= 30.848\\nentropy = 1.0\\nsamples = 2\\nvalue = [1, 1]'),\n",
              " Text(263.0571428571429, 48.92400000000001, 'entropy = 0.0\\nsamples = 1\\nvalue = [1, 0]'),\n",
              " Text(267.84000000000003, 48.92400000000001, 'entropy = 0.0\\nsamples = 1\\nvalue = [0, 1]'),\n",
              " Text(270.2314285714286, 59.79599999999999, 'entropy = 0.0\\nsamples = 6\\nvalue = [6, 0]'),\n",
              " Text(277.4057142857143, 70.668, 'X[1] <= 36.5\\nentropy = 0.918\\nsamples = 3\\nvalue = [1, 2]'),\n",
              " Text(275.01428571428573, 59.79599999999999, 'entropy = 0.0\\nsamples = 2\\nvalue = [0, 2]'),\n",
              " Text(279.7971428571429, 59.79599999999999, 'entropy = 0.0\\nsamples = 1\\nvalue = [1, 0]'),\n",
              " Text(277.4057142857143, 81.53999999999999, 'entropy = 0.0\\nsamples = 14\\nvalue = [14, 0]'),\n",
              " Text(279.7971428571429, 92.412, 'entropy = 0.0\\nsamples = 1\\nvalue = [0, 1]'),\n",
              " Text(300.1242857142857, 103.28399999999999, 'X[4] <= 59.087\\nentropy = 0.983\\nsamples = 52\\nvalue = [30, 22]'),\n",
              " Text(286.9714285714286, 92.412, 'X[1] <= 22.0\\nentropy = 0.896\\nsamples = 16\\nvalue = [5, 11]'),\n",
              " Text(284.58, 81.53999999999999, 'entropy = 0.0\\nsamples = 1\\nvalue = [1, 0]'),\n",
              " Text(289.36285714285714, 81.53999999999999, 'X[1] <= 49.5\\nentropy = 0.837\\nsamples = 15\\nvalue = [4, 11]'),\n",
              " Text(286.9714285714286, 70.668, 'X[1] <= 27.5\\nentropy = 0.75\\nsamples = 14\\nvalue = [3, 11]'),\n",
              " Text(284.58, 59.79599999999999, 'entropy = 0.0\\nsamples = 3\\nvalue = [0, 3]'),\n",
              " Text(289.36285714285714, 59.79599999999999, 'X[1] <= 29.5\\nentropy = 0.845\\nsamples = 11\\nvalue = [3, 8]'),\n",
              " Text(286.9714285714286, 48.92400000000001, 'entropy = 1.0\\nsamples = 4\\nvalue = [2, 2]'),\n",
              " Text(291.75428571428574, 48.92400000000001, 'X[4] <= 54.798\\nentropy = 0.592\\nsamples = 7\\nvalue = [1, 6]'),\n",
              " Text(289.36285714285714, 38.05199999999999, 'X[4] <= 52.827\\nentropy = 0.918\\nsamples = 3\\nvalue = [1, 2]'),\n",
              " Text(286.9714285714286, 27.180000000000007, 'entropy = 0.0\\nsamples = 2\\nvalue = [0, 2]'),\n",
              " Text(291.75428571428574, 27.180000000000007, 'entropy = 0.0\\nsamples = 1\\nvalue = [1, 0]'),\n",
              " Text(294.1457142857143, 38.05199999999999, 'entropy = 0.0\\nsamples = 4\\nvalue = [0, 4]'),\n",
              " Text(291.75428571428574, 70.668, 'entropy = 0.0\\nsamples = 1\\nvalue = [1, 0]'),\n",
              " Text(313.27714285714285, 92.412, 'X[4] <= 379.925\\nentropy = 0.888\\nsamples = 36\\nvalue = [25, 11]'),\n",
              " Text(310.8857142857143, 81.53999999999999, 'X[4] <= 134.642\\nentropy = 0.834\\nsamples = 34\\nvalue = [25, 9]'),\n",
              " Text(308.4942857142857, 70.668, 'X[4] <= 86.29\\nentropy = 0.906\\nsamples = 28\\nvalue = [19, 9]'),\n",
              " Text(303.7114285714286, 59.79599999999999, 'X[9] <= 0.5\\nentropy = 0.65\\nsamples = 18\\nvalue = [15, 3]'),\n",
              " Text(301.32, 48.92400000000001, 'X[4] <= 77.965\\nentropy = 0.985\\nsamples = 7\\nvalue = [4, 3]'),\n",
              " Text(298.92857142857144, 38.05199999999999, 'X[4] <= 62.369\\nentropy = 0.811\\nsamples = 4\\nvalue = [1, 3]'),\n",
              " Text(296.53714285714284, 27.180000000000007, 'entropy = 0.0\\nsamples = 1\\nvalue = [1, 0]'),\n",
              " Text(301.32, 27.180000000000007, 'entropy = 0.0\\nsamples = 3\\nvalue = [0, 3]'),\n",
              " Text(303.7114285714286, 38.05199999999999, 'entropy = 0.0\\nsamples = 3\\nvalue = [3, 0]'),\n",
              " Text(306.10285714285715, 48.92400000000001, 'entropy = 0.0\\nsamples = 11\\nvalue = [11, 0]'),\n",
              " Text(313.27714285714285, 59.79599999999999, 'X[9] <= 0.5\\nentropy = 0.971\\nsamples = 10\\nvalue = [4, 6]'),\n",
              " Text(310.8857142857143, 48.92400000000001, 'X[2] <= 0.5\\nentropy = 0.985\\nsamples = 7\\nvalue = [4, 3]'),\n",
              " Text(308.4942857142857, 38.05199999999999, 'entropy = 0.0\\nsamples = 1\\nvalue = [0, 1]'),\n",
              " Text(313.27714285714285, 38.05199999999999, 'X[4] <= 98.752\\nentropy = 0.918\\nsamples = 6\\nvalue = [4, 2]'),\n",
              " Text(310.8857142857143, 27.180000000000007, 'X[7] <= 0.5\\nentropy = 0.918\\nsamples = 3\\nvalue = [1, 2]'),\n",
              " Text(308.4942857142857, 16.307999999999993, 'entropy = 0.0\\nsamples = 1\\nvalue = [1, 0]'),\n",
              " Text(313.27714285714285, 16.307999999999993, 'entropy = 0.0\\nsamples = 2\\nvalue = [0, 2]'),\n",
              " Text(315.66857142857145, 27.180000000000007, 'entropy = 0.0\\nsamples = 3\\nvalue = [3, 0]'),\n",
              " Text(315.66857142857145, 48.92400000000001, 'entropy = 0.0\\nsamples = 3\\nvalue = [0, 3]'),\n",
              " Text(313.27714285714285, 70.668, 'entropy = 0.0\\nsamples = 6\\nvalue = [6, 0]'),\n",
              " Text(315.66857142857145, 81.53999999999999, 'entropy = 0.0\\nsamples = 2\\nvalue = [0, 2]'),\n",
              " Text(330.01714285714286, 146.772, 'X[1] <= 75.5\\nentropy = 0.575\\nsamples = 22\\nvalue = [19, 3]'),\n",
              " Text(327.6257142857143, 135.9, 'X[9] <= 0.5\\nentropy = 0.454\\nsamples = 21\\nvalue = [19, 2]'),\n",
              " Text(325.2342857142857, 125.02799999999999, 'X[2] <= 0.5\\nentropy = 0.811\\nsamples = 8\\nvalue = [6, 2]'),\n",
              " Text(322.84285714285716, 114.156, 'X[1] <= 57.0\\nentropy = 0.592\\nsamples = 7\\nvalue = [6, 1]'),\n",
              " Text(320.45142857142855, 103.28399999999999, 'X[4] <= 33.098\\nentropy = 1.0\\nsamples = 2\\nvalue = [1, 1]'),\n",
              " Text(318.06, 92.412, 'entropy = 0.0\\nsamples = 1\\nvalue = [1, 0]'),\n",
              " Text(322.84285714285716, 92.412, 'entropy = 0.0\\nsamples = 1\\nvalue = [0, 1]'),\n",
              " Text(325.2342857142857, 103.28399999999999, 'entropy = 0.0\\nsamples = 5\\nvalue = [5, 0]'),\n",
              " Text(327.6257142857143, 114.156, 'entropy = 0.0\\nsamples = 1\\nvalue = [0, 1]'),\n",
              " Text(330.01714285714286, 125.02799999999999, 'entropy = 0.0\\nsamples = 13\\nvalue = [13, 0]'),\n",
              " Text(332.4085714285714, 135.9, 'entropy = 0.0\\nsamples = 1\\nvalue = [0, 1]'),\n",
              " Text(307.2238392857143, 179.388, 'X[1] <= 3.5\\nentropy = 0.258\\nsamples = 23\\nvalue = [22, 1]'),\n",
              " Text(304.83241071428574, 168.516, 'X[1] <= 2.5\\nentropy = 0.722\\nsamples = 5\\nvalue = [4, 1]'),\n",
              " Text(302.44098214285714, 157.644, 'entropy = 0.0\\nsamples = 4\\nvalue = [4, 0]'),\n",
              " Text(307.2238392857143, 157.644, 'entropy = 0.0\\nsamples = 1\\nvalue = [0, 1]'),\n",
              " Text(309.61526785714284, 168.516, 'entropy = 0.0\\nsamples = 18\\nvalue = [18, 0]')]"
            ]
          },
          "metadata": {
            "tags": []
          },
          "execution_count": 89
        },
        {
          "output_type": "display_data",
          "data": {
            "image/png": "[encoded data removed]",
            "text/plain": [
              "<Figure size 432x288 with 1 Axes>"
            ]
          },
          "metadata": {
            "tags": [],
            "needs_background": "light"
          }
        }
      ]
    },
    {
      "cell_type": "code",
      "metadata": {
        "id": "QhXl8PzkgsHr"
      },
      "source": [
        "from sklearn.model_selection import train_test_split"
      ],
      "execution_count": null,
      "outputs": []
    },
    {
      "cell_type": "code",
      "metadata": {
        "id": "62cUCrYQgsHr"
      },
      "source": [
        "X_train, X_test, y_train, y_test = train_test_split(X, y, test_size=0.33, random_state=42)"
      ],
      "execution_count": null,
      "outputs": []
    },
    {
      "cell_type": "code",
      "metadata": {
        "id": "g52XpIBbgsHr",
        "colab": {
          "base_uri": "https://localhost:8080/"
        },
        "outputId": "077ce8e3-1f82-43ac-eab1-f45ff36201b9"
      },
      "source": [
        "X_train.shape"
      ],
      "execution_count": null,
      "outputs": [
        {
          "output_type": "execute_result",
          "data": {
            "text/plain": [
              "(596, 10)"
            ]
          },
          "metadata": {
            "tags": []
          },
          "execution_count": 92
        }
      ]
    },
    {
      "cell_type": "code",
      "metadata": {
        "id": "wt9U_sqkgsHr",
        "colab": {
          "base_uri": "https://localhost:8080/"
        },
        "outputId": "48190764-cb55-48a9-eca1-86484ceca39e"
      },
      "source": [
        "X_test.shape"
      ],
      "execution_count": null,
      "outputs": [
        {
          "output_type": "execute_result",
          "data": {
            "text/plain": [
              "(295, 10)"
            ]
          },
          "metadata": {
            "tags": []
          },
          "execution_count": 93
        }
      ]
    },
    {
      "cell_type": "code",
      "metadata": {
        "id": "2ryviDP1gsHs",
        "colab": {
          "base_uri": "https://localhost:8080/"
        },
        "outputId": "3dc17728-ed00-4de9-c190-a9de443d9b53"
      },
      "source": [
        "clf.fit(X_train, y_train)"
      ],
      "execution_count": null,
      "outputs": [
        {
          "output_type": "execute_result",
          "data": {
            "text/plain": [
              "DecisionTreeClassifier(ccp_alpha=0.0, class_weight=None, criterion='entropy',\n",
              "                       max_depth=None, max_features=None, max_leaf_nodes=None,\n",
              "                       min_impurity_decrease=0.0, min_impurity_split=None,\n",
              "                       min_samples_leaf=1, min_samples_split=2,\n",
              "                       min_weight_fraction_leaf=0.0, presort='deprecated',\n",
              "                       random_state=None, splitter='best')"
            ]
          },
          "metadata": {
            "tags": []
          },
          "execution_count": 94
        }
      ]
    },
    {
      "cell_type": "code",
      "metadata": {
        "id": "euEP62gzgsHs",
        "colab": {
          "base_uri": "https://localhost:8080/"
        },
        "outputId": "667a79a2-b816-4a04-c019-a1e74ce651e8"
      },
      "source": [
        "clf.score(X_test, y_test)"
      ],
      "execution_count": null,
      "outputs": [
        {
          "output_type": "execute_result",
          "data": {
            "text/plain": [
              "0.7627118644067796"
            ]
          },
          "metadata": {
            "tags": []
          },
          "execution_count": 95
        }
      ]
    },
    {
      "cell_type": "code",
      "metadata": {
        "id": "i9id2GALgsHs"
      },
      "source": [
        "clf = tree.DecisionTreeClassifier(criterion='entropy', max_depth=3)"
      ],
      "execution_count": null,
      "outputs": []
    },
    {
      "cell_type": "code",
      "metadata": {
        "id": "pYJukCl9gsHt",
        "colab": {
          "base_uri": "https://localhost:8080/"
        },
        "outputId": "53c8dcb3-e92c-443c-e3ad-16f9dd393e69"
      },
      "source": [
        "clf.fit(X_train, y_train)\n",
        "clf.score(X_train, y_train)"
      ],
      "execution_count": null,
      "outputs": [
        {
          "output_type": "execute_result",
          "data": {
            "text/plain": [
              "0.8238255033557047"
            ]
          },
          "metadata": {
            "tags": []
          },
          "execution_count": 97
        }
      ]
    },
    {
      "cell_type": "code",
      "metadata": {
        "id": "Ujwc2Eo3gsHt",
        "colab": {
          "base_uri": "https://localhost:8080/"
        },
        "outputId": "307aa691-1488-48af-dcb1-1c3e1e3f65ac"
      },
      "source": [
        "clf.score(X_test, y_test)"
      ],
      "execution_count": null,
      "outputs": [
        {
          "output_type": "execute_result",
          "data": {
            "text/plain": [
              "0.8203389830508474"
            ]
          },
          "metadata": {
            "tags": []
          },
          "execution_count": 98
        }
      ]
    },
    {
      "cell_type": "markdown",
      "metadata": {
        "id": "QMs94fjhgsHt"
      },
      "source": [
        "# Cross-validation (manual)"
      ]
    },
    {
      "cell_type": "code",
      "metadata": {
        "id": "E5bN0qqdgsHt"
      },
      "source": [
        "max_depth_values = range(1, 100)"
      ],
      "execution_count": null,
      "outputs": []
    },
    {
      "cell_type": "code",
      "metadata": {
        "id": "C18UBQyNgsHu"
      },
      "source": [
        "scores_data = pd.DataFrame()"
      ],
      "execution_count": null,
      "outputs": []
    },
    {
      "cell_type": "code",
      "metadata": {
        "id": "a56VvCbbgsHu"
      },
      "source": [
        "for max_depth in max_depth_values:\n",
        "    clf = tree.DecisionTreeClassifier(criterion='entropy', max_depth=max_depth)\n",
        "    clf.fit(X_train, y_train)\n",
        "    train_score = clf.score(X_train, y_train)\n",
        "    test_score = clf.score(X_test, y_test)\n",
        "\n",
        "    mean_cross_val_score = cross_val_score(clf, X_train, y_train, cv=5).mean()\n",
        "\n",
        "    temp_score_data = pd.DataFrame({\n",
        "        'max_depth': [max_depth],\n",
        "        'train_score': [train_score],\n",
        "        'test_score': [test_score],\n",
        "        'cross_val_score': [mean_cross_val_score]\n",
        "        })\n",
        "    \n",
        "    scores_data = scores_data.append(temp_score_data)"
      ],
      "execution_count": null,
      "outputs": []
    },
    {
      "cell_type": "code",
      "metadata": {
        "id": "_X5MxAUBgsHu",
        "colab": {
          "base_uri": "https://localhost:8080/",
          "height": 204
        },
        "outputId": "abbc3728-f5fb-49ad-9aa6-a0c1cafc96ca"
      },
      "source": [
        "scores_data.head()"
      ],
      "execution_count": null,
      "outputs": [
        {
          "output_type": "execute_result",
          "data": {
            "text/html": [
              "<div>\n",
              "<style scoped>\n",
              "    .dataframe tbody tr th:only-of-type {\n",
              "        vertical-align: middle;\n",
              "    }\n",
              "\n",
              "    .dataframe tbody tr th {\n",
              "        vertical-align: top;\n",
              "    }\n",
              "\n",
              "    .dataframe thead th {\n",
              "        text-align: right;\n",
              "    }\n",
              "</style>\n",
              "<table border=\"1\" class=\"dataframe\">\n",
              "  <thead>\n",
              "    <tr style=\"text-align: right;\">\n",
              "      <th></th>\n",
              "      <th>max_depth</th>\n",
              "      <th>train_score</th>\n",
              "      <th>test_score</th>\n",
              "      <th>cross_val_score</th>\n",
              "    </tr>\n",
              "  </thead>\n",
              "  <tbody>\n",
              "    <tr>\n",
              "      <th>0</th>\n",
              "      <td>1</td>\n",
              "      <td>0.781879</td>\n",
              "      <td>0.796610</td>\n",
              "      <td>0.781961</td>\n",
              "    </tr>\n",
              "    <tr>\n",
              "      <th>0</th>\n",
              "      <td>2</td>\n",
              "      <td>0.805369</td>\n",
              "      <td>0.776271</td>\n",
              "      <td>0.770196</td>\n",
              "    </tr>\n",
              "    <tr>\n",
              "      <th>0</th>\n",
              "      <td>3</td>\n",
              "      <td>0.823826</td>\n",
              "      <td>0.820339</td>\n",
              "      <td>0.790322</td>\n",
              "    </tr>\n",
              "    <tr>\n",
              "      <th>0</th>\n",
              "      <td>4</td>\n",
              "      <td>0.833893</td>\n",
              "      <td>0.823729</td>\n",
              "      <td>0.788627</td>\n",
              "    </tr>\n",
              "    <tr>\n",
              "      <th>0</th>\n",
              "      <td>5</td>\n",
              "      <td>0.840604</td>\n",
              "      <td>0.806780</td>\n",
              "      <td>0.795350</td>\n",
              "    </tr>\n",
              "  </tbody>\n",
              "</table>\n",
              "</div>"
            ],
            "text/plain": [
              "   max_depth  train_score  test_score  cross_val_score\n",
              "0          1     0.781879    0.796610         0.781961\n",
              "0          2     0.805369    0.776271         0.770196\n",
              "0          3     0.823826    0.820339         0.790322\n",
              "0          4     0.833893    0.823729         0.788627\n",
              "0          5     0.840604    0.806780         0.795350"
            ]
          },
          "metadata": {
            "tags": []
          },
          "execution_count": 109
        }
      ]
    },
    {
      "cell_type": "code",
      "metadata": {
        "id": "8Gv1zGx3gsHu"
      },
      "source": [
        "scores_data_long = pd.melt(\n",
        "    scores_data,\n",
        "    id_vars=['max_depth'],\n",
        "    value_vars=['train_score', 'test_score', 'cross_val_score'],\n",
        "    var_name='set_type',\n",
        "    value_name='score')"
      ],
      "execution_count": null,
      "outputs": []
    },
    {
      "cell_type": "code",
      "metadata": {
        "id": "5A-NHkWMgsHv",
        "colab": {
          "base_uri": "https://localhost:8080/",
          "height": 204
        },
        "outputId": "f411a34a-9852-49e3-da70-6a4c6a3a58c5"
      },
      "source": [
        "scores_data_long.head()"
      ],
      "execution_count": null,
      "outputs": [
        {
          "output_type": "execute_result",
          "data": {
            "text/html": [
              "<div>\n",
              "<style scoped>\n",
              "    .dataframe tbody tr th:only-of-type {\n",
              "        vertical-align: middle;\n",
              "    }\n",
              "\n",
              "    .dataframe tbody tr th {\n",
              "        vertical-align: top;\n",
              "    }\n",
              "\n",
              "    .dataframe thead th {\n",
              "        text-align: right;\n",
              "    }\n",
              "</style>\n",
              "<table border=\"1\" class=\"dataframe\">\n",
              "  <thead>\n",
              "    <tr style=\"text-align: right;\">\n",
              "      <th></th>\n",
              "      <th>max_depth</th>\n",
              "      <th>set_type</th>\n",
              "      <th>score</th>\n",
              "    </tr>\n",
              "  </thead>\n",
              "  <tbody>\n",
              "    <tr>\n",
              "      <th>0</th>\n",
              "      <td>1</td>\n",
              "      <td>train_score</td>\n",
              "      <td>0.781879</td>\n",
              "    </tr>\n",
              "    <tr>\n",
              "      <th>1</th>\n",
              "      <td>2</td>\n",
              "      <td>train_score</td>\n",
              "      <td>0.805369</td>\n",
              "    </tr>\n",
              "    <tr>\n",
              "      <th>2</th>\n",
              "      <td>3</td>\n",
              "      <td>train_score</td>\n",
              "      <td>0.823826</td>\n",
              "    </tr>\n",
              "    <tr>\n",
              "      <th>3</th>\n",
              "      <td>4</td>\n",
              "      <td>train_score</td>\n",
              "      <td>0.833893</td>\n",
              "    </tr>\n",
              "    <tr>\n",
              "      <th>4</th>\n",
              "      <td>5</td>\n",
              "      <td>train_score</td>\n",
              "      <td>0.840604</td>\n",
              "    </tr>\n",
              "  </tbody>\n",
              "</table>\n",
              "</div>"
            ],
            "text/plain": [
              "   max_depth     set_type     score\n",
              "0          1  train_score  0.781879\n",
              "1          2  train_score  0.805369\n",
              "2          3  train_score  0.823826\n",
              "3          4  train_score  0.833893\n",
              "4          5  train_score  0.840604"
            ]
          },
          "metadata": {
            "tags": []
          },
          "execution_count": 111
        }
      ]
    },
    {
      "cell_type": "code",
      "metadata": {
        "id": "oKEKGGpXgsHv",
        "colab": {
          "base_uri": "https://localhost:8080/",
          "height": 297
        },
        "outputId": "eeb63927-f822-4b3a-cba5-6d642906dc4f"
      },
      "source": [
        "sns.lineplot(x='max_depth', y='score', hue='set_type', data=scores_data_long)"
      ],
      "execution_count": null,
      "outputs": [
        {
          "output_type": "execute_result",
          "data": {
            "text/plain": [
              "<matplotlib.axes._subplots.AxesSubplot at 0x7f3c56f01bd0>"
            ]
          },
          "metadata": {
            "tags": []
          },
          "execution_count": 112
        },
        {
          "output_type": "display_data",
          "data": {
            "image/png": "[encoded data removed]",
            "text/plain": [
              "<Figure size 432x288 with 1 Axes>"
            ]
          },
          "metadata": {
            "tags": [],
            "needs_background": "light"
          }
        }
      ]
    },
    {
      "cell_type": "code",
      "metadata": {
        "id": "7zwPQKzBk7JY",
        "colab": {
          "base_uri": "https://localhost:8080/",
          "height": 669
        },
        "outputId": "9d8ba2ce-7269-46c1-92d2-e706d5dca5f8"
      },
      "source": [
        "scores_data_long.query(\"set_type == 'cross_val_score'\").head(20)"
      ],
      "execution_count": null,
      "outputs": [
        {
          "output_type": "execute_result",
          "data": {
            "text/html": [
              "<div>\n",
              "<style scoped>\n",
              "    .dataframe tbody tr th:only-of-type {\n",
              "        vertical-align: middle;\n",
              "    }\n",
              "\n",
              "    .dataframe tbody tr th {\n",
              "        vertical-align: top;\n",
              "    }\n",
              "\n",
              "    .dataframe thead th {\n",
              "        text-align: right;\n",
              "    }\n",
              "</style>\n",
              "<table border=\"1\" class=\"dataframe\">\n",
              "  <thead>\n",
              "    <tr style=\"text-align: right;\">\n",
              "      <th></th>\n",
              "      <th>max_depth</th>\n",
              "      <th>set_type</th>\n",
              "      <th>score</th>\n",
              "    </tr>\n",
              "  </thead>\n",
              "  <tbody>\n",
              "    <tr>\n",
              "      <th>198</th>\n",
              "      <td>1</td>\n",
              "      <td>cross_val_score</td>\n",
              "      <td>0.781961</td>\n",
              "    </tr>\n",
              "    <tr>\n",
              "      <th>199</th>\n",
              "      <td>2</td>\n",
              "      <td>cross_val_score</td>\n",
              "      <td>0.770196</td>\n",
              "    </tr>\n",
              "    <tr>\n",
              "      <th>200</th>\n",
              "      <td>3</td>\n",
              "      <td>cross_val_score</td>\n",
              "      <td>0.790322</td>\n",
              "    </tr>\n",
              "    <tr>\n",
              "      <th>201</th>\n",
              "      <td>4</td>\n",
              "      <td>cross_val_score</td>\n",
              "      <td>0.788627</td>\n",
              "    </tr>\n",
              "    <tr>\n",
              "      <th>202</th>\n",
              "      <td>5</td>\n",
              "      <td>cross_val_score</td>\n",
              "      <td>0.795350</td>\n",
              "    </tr>\n",
              "    <tr>\n",
              "      <th>203</th>\n",
              "      <td>6</td>\n",
              "      <td>cross_val_score</td>\n",
              "      <td>0.802073</td>\n",
              "    </tr>\n",
              "    <tr>\n",
              "      <th>204</th>\n",
              "      <td>7</td>\n",
              "      <td>cross_val_score</td>\n",
              "      <td>0.798697</td>\n",
              "    </tr>\n",
              "    <tr>\n",
              "      <th>205</th>\n",
              "      <td>8</td>\n",
              "      <td>cross_val_score</td>\n",
              "      <td>0.797003</td>\n",
              "    </tr>\n",
              "    <tr>\n",
              "      <th>206</th>\n",
              "      <td>9</td>\n",
              "      <td>cross_val_score</td>\n",
              "      <td>0.810434</td>\n",
              "    </tr>\n",
              "    <tr>\n",
              "      <th>207</th>\n",
              "      <td>10</td>\n",
              "      <td>cross_val_score</td>\n",
              "      <td>0.805392</td>\n",
              "    </tr>\n",
              "    <tr>\n",
              "      <th>208</th>\n",
              "      <td>11</td>\n",
              "      <td>cross_val_score</td>\n",
              "      <td>0.800350</td>\n",
              "    </tr>\n",
              "    <tr>\n",
              "      <th>209</th>\n",
              "      <td>12</td>\n",
              "      <td>cross_val_score</td>\n",
              "      <td>0.797017</td>\n",
              "    </tr>\n",
              "    <tr>\n",
              "      <th>210</th>\n",
              "      <td>13</td>\n",
              "      <td>cross_val_score</td>\n",
              "      <td>0.795308</td>\n",
              "    </tr>\n",
              "    <tr>\n",
              "      <th>211</th>\n",
              "      <td>14</td>\n",
              "      <td>cross_val_score</td>\n",
              "      <td>0.807073</td>\n",
              "    </tr>\n",
              "    <tr>\n",
              "      <th>212</th>\n",
              "      <td>15</td>\n",
              "      <td>cross_val_score</td>\n",
              "      <td>0.783585</td>\n",
              "    </tr>\n",
              "    <tr>\n",
              "      <th>213</th>\n",
              "      <td>16</td>\n",
              "      <td>cross_val_score</td>\n",
              "      <td>0.776877</td>\n",
              "    </tr>\n",
              "    <tr>\n",
              "      <th>214</th>\n",
              "      <td>17</td>\n",
              "      <td>cross_val_score</td>\n",
              "      <td>0.786947</td>\n",
              "    </tr>\n",
              "    <tr>\n",
              "      <th>215</th>\n",
              "      <td>18</td>\n",
              "      <td>cross_val_score</td>\n",
              "      <td>0.781933</td>\n",
              "    </tr>\n",
              "    <tr>\n",
              "      <th>216</th>\n",
              "      <td>19</td>\n",
              "      <td>cross_val_score</td>\n",
              "      <td>0.773529</td>\n",
              "    </tr>\n",
              "    <tr>\n",
              "      <th>217</th>\n",
              "      <td>20</td>\n",
              "      <td>cross_val_score</td>\n",
              "      <td>0.778585</td>\n",
              "    </tr>\n",
              "  </tbody>\n",
              "</table>\n",
              "</div>"
            ],
            "text/plain": [
              "     max_depth         set_type     score\n",
              "198          1  cross_val_score  0.781961\n",
              "199          2  cross_val_score  0.770196\n",
              "200          3  cross_val_score  0.790322\n",
              "201          4  cross_val_score  0.788627\n",
              "202          5  cross_val_score  0.795350\n",
              "203          6  cross_val_score  0.802073\n",
              "204          7  cross_val_score  0.798697\n",
              "205          8  cross_val_score  0.797003\n",
              "206          9  cross_val_score  0.810434\n",
              "207         10  cross_val_score  0.805392\n",
              "208         11  cross_val_score  0.800350\n",
              "209         12  cross_val_score  0.797017\n",
              "210         13  cross_val_score  0.795308\n",
              "211         14  cross_val_score  0.807073\n",
              "212         15  cross_val_score  0.783585\n",
              "213         16  cross_val_score  0.776877\n",
              "214         17  cross_val_score  0.786947\n",
              "215         18  cross_val_score  0.781933\n",
              "216         19  cross_val_score  0.773529\n",
              "217         20  cross_val_score  0.778585"
            ]
          },
          "metadata": {
            "tags": []
          },
          "execution_count": 114
        }
      ]
    },
    {
      "cell_type": "code",
      "metadata": {
        "id": "V6WEW2NylKNS"
      },
      "source": [
        "# best depth = 14\n",
        "best_clf = tree.DecisionTreeClassifier(criterion='entropy', max_depth=14)"
      ],
      "execution_count": null,
      "outputs": []
    },
    {
      "cell_type": "code",
      "metadata": {
        "id": "cKYUc6wmlRZK",
        "colab": {
          "base_uri": "https://localhost:8080/"
        },
        "outputId": "62f2b0e1-5e57-4d13-a0ca-6eee5ee25a87"
      },
      "source": [
        "cross_val_score(best_clf, X_test, y_test, cv=5).mean()"
      ],
      "execution_count": null,
      "outputs": [
        {
          "output_type": "execute_result",
          "data": {
            "text/plain": [
              "0.8"
            ]
          },
          "metadata": {
            "tags": []
          },
          "execution_count": 116
        }
      ]
    },
    {
      "cell_type": "markdown",
      "metadata": {
        "id": "byqfLW8Hl8M3"
      },
      "source": [
        "# GridSearchCV"
      ]
    },
    {
      "cell_type": "code",
      "metadata": {
        "id": "I6cNAf3FmAUh"
      },
      "source": [
        "from sklearn.model_selection import GridSearchCV"
      ],
      "execution_count": null,
      "outputs": []
    },
    {
      "cell_type": "code",
      "metadata": {
        "id": "9pUXZKkjmR2B",
        "colab": {
          "base_uri": "https://localhost:8080/"
        },
        "outputId": "4654a437-e41f-4108-b821-3d6665c41ad4"
      },
      "source": [
        "clf = tree.DecisionTreeClassifier()\n",
        "clf"
      ],
      "execution_count": null,
      "outputs": [
        {
          "output_type": "execute_result",
          "data": {
            "text/plain": [
              "DecisionTreeClassifier(ccp_alpha=0.0, class_weight=None, criterion='gini',\n",
              "                       max_depth=None, max_features=None, max_leaf_nodes=None,\n",
              "                       min_impurity_decrease=0.0, min_impurity_split=None,\n",
              "                       min_samples_leaf=1, min_samples_split=2,\n",
              "                       min_weight_fraction_leaf=0.0, presort='deprecated',\n",
              "                       random_state=None, splitter='best')"
            ]
          },
          "metadata": {
            "tags": []
          },
          "execution_count": 138
        }
      ]
    },
    {
      "cell_type": "code",
      "metadata": {
        "id": "ShQUOMgEmXzY"
      },
      "source": [
        "parameters = {\n",
        "    'criterion': ['gini', 'entropy'],\n",
        "    'max_depth': range(1, 30)\n",
        "}"
      ],
      "execution_count": null,
      "outputs": []
    },
    {
      "cell_type": "code",
      "metadata": {
        "id": "Tk1W29y2mFrr"
      },
      "source": [
        "grid_search_cv_clf = GridSearchCV(clf, parameters, cv=5)"
      ],
      "execution_count": null,
      "outputs": []
    },
    {
      "cell_type": "code",
      "metadata": {
        "id": "VSQS_C2pnC5P",
        "colab": {
          "base_uri": "https://localhost:8080/"
        },
        "outputId": "ea65a8e6-f9d6-4032-f406-3c3b68fa97e9"
      },
      "source": [
        "grid_search_cv_clf.fit(X_train, y_train)"
      ],
      "execution_count": null,
      "outputs": [
        {
          "output_type": "execute_result",
          "data": {
            "text/plain": [
              "GridSearchCV(cv=5, error_score=nan,\n",
              "             estimator=DecisionTreeClassifier(ccp_alpha=0.0, class_weight=None,\n",
              "                                              criterion='gini', max_depth=None,\n",
              "                                              max_features=None,\n",
              "                                              max_leaf_nodes=None,\n",
              "                                              min_impurity_decrease=0.0,\n",
              "                                              min_impurity_split=None,\n",
              "                                              min_samples_leaf=1,\n",
              "                                              min_samples_split=2,\n",
              "                                              min_weight_fraction_leaf=0.0,\n",
              "                                              presort='deprecated',\n",
              "                                              random_state=None,\n",
              "                                              splitter='best'),\n",
              "             iid='deprecated', n_jobs=None,\n",
              "             param_grid={'criterion': ['gini', 'entropy'],\n",
              "                         'max_depth': range(1, 30)},\n",
              "             pre_dispatch='2*n_jobs', refit=True, return_train_score=False,\n",
              "             scoring=None, verbose=0)"
            ]
          },
          "metadata": {
            "tags": []
          },
          "execution_count": 145
        }
      ]
    },
    {
      "cell_type": "code",
      "metadata": {
        "id": "_6zWVLNipKhH",
        "colab": {
          "base_uri": "https://localhost:8080/"
        },
        "outputId": "5e09f815-2657-49c3-d28d-f3401b461ea7"
      },
      "source": [
        "grid_search_cv_clf.best_params_"
      ],
      "execution_count": null,
      "outputs": [
        {
          "output_type": "execute_result",
          "data": {
            "text/plain": [
              "{'criterion': 'entropy', 'max_depth': 11}"
            ]
          },
          "metadata": {
            "tags": []
          },
          "execution_count": 146
        }
      ]
    },
    {
      "cell_type": "code",
      "metadata": {
        "id": "9Jyt66fspWK1"
      },
      "source": [
        "best_clf = grid_search_cv_clf.best_estimator_"
      ],
      "execution_count": null,
      "outputs": []
    },
    {
      "cell_type": "code",
      "metadata": {
        "id": "WVKnm1VKpacS",
        "colab": {
          "base_uri": "https://localhost:8080/"
        },
        "outputId": "76d02869-4227-4225-c3a3-a73e1c64855a"
      },
      "source": [
        "best_clf.score(X_test, y_test)"
      ],
      "execution_count": null,
      "outputs": [
        {
          "output_type": "execute_result",
          "data": {
            "text/plain": [
              "0.7694915254237288"
            ]
          },
          "metadata": {
            "tags": []
          },
          "execution_count": 150
        }
      ]
    },
    {
      "cell_type": "markdown",
      "metadata": {
        "id": "_e5uwIzdp0A5"
      },
      "source": [
        "# Metrics"
      ]
    },
    {
      "cell_type": "code",
      "metadata": {
        "id": "EKTcKR-opydZ"
      },
      "source": [
        "from sklearn.metrics import precision_score, recall_score"
      ],
      "execution_count": null,
      "outputs": []
    },
    {
      "cell_type": "code",
      "metadata": {
        "id": "GmkiG5PwqdXB"
      },
      "source": [
        "y_pred = best_clf.predict(X_test)"
      ],
      "execution_count": null,
      "outputs": []
    },
    {
      "cell_type": "code",
      "metadata": {
        "id": "aroQlCuKqE28",
        "colab": {
          "base_uri": "https://localhost:8080/"
        },
        "outputId": "c77132db-c529-431f-a078-c2845bd352e9"
      },
      "source": [
        "precision_score(y_test, y_pred)"
      ],
      "execution_count": null,
      "outputs": [
        {
          "output_type": "execute_result",
          "data": {
            "text/plain": [
              "0.75"
            ]
          },
          "metadata": {
            "tags": []
          },
          "execution_count": 153
        }
      ]
    },
    {
      "cell_type": "code",
      "metadata": {
        "id": "MdHDlrDRqn3Z",
        "colab": {
          "base_uri": "https://localhost:8080/"
        },
        "outputId": "638a2168-e640-40ee-c800-9a013cf61329"
      },
      "source": [
        "recall_score(y_test, y_pred)"
      ],
      "execution_count": null,
      "outputs": [
        {
          "output_type": "execute_result",
          "data": {
            "text/plain": [
              "0.65"
            ]
          },
          "metadata": {
            "tags": []
          },
          "execution_count": 155
        }
      ]
    },
    {
      "cell_type": "code",
      "metadata": {
        "id": "Wga4Uv8IrOyB"
      },
      "source": [
        "y_predicted_prob = best_clf.predict_proba(X_test)"
      ],
      "execution_count": null,
      "outputs": []
    },
    {
      "cell_type": "code",
      "metadata": {
        "id": "HwKhssKlrZB7",
        "colab": {
          "base_uri": "https://localhost:8080/",
          "height": 282
        },
        "outputId": "aa9ebbab-14a4-4999-8dca-633b910f52cb"
      },
      "source": [
        "pd.Series(y_predicted_prob[:, 1]).hist()"
      ],
      "execution_count": null,
      "outputs": [
        {
          "output_type": "execute_result",
          "data": {
            "text/plain": [
              "<matplotlib.axes._subplots.AxesSubplot at 0x7f3c56819390>"
            ]
          },
          "metadata": {
            "tags": []
          },
          "execution_count": 159
        },
        {
          "output_type": "display_data",
          "data": {
            "image/png": "[encoded data removed]",
            "text/plain": [
              "<Figure size 432x288 with 1 Axes>"
            ]
          },
          "metadata": {
            "tags": [],
            "needs_background": "light"
          }
        }
      ]
    },
    {
      "cell_type": "code",
      "metadata": {
        "id": "SuFyfnMpr2SL"
      },
      "source": [
        "# сделаем причисление к выжившим с шансом не ниже 0.8\n",
        "y_pred = np.where(y_predicted_prob[:, 1] > 0.8, 1, 0)"
      ],
      "execution_count": null,
      "outputs": []
    },
    {
      "cell_type": "code",
      "metadata": {
        "id": "MuFcQcIosD1X",
        "colab": {
          "base_uri": "https://localhost:8080/"
        },
        "outputId": "014a652b-c4ff-464b-c361-270329b79e8b"
      },
      "source": [
        "precision_score(y_test, y_pred)"
      ],
      "execution_count": null,
      "outputs": [
        {
          "output_type": "execute_result",
          "data": {
            "text/plain": [
              "0.7916666666666666"
            ]
          },
          "metadata": {
            "tags": []
          },
          "execution_count": 163
        }
      ]
    },
    {
      "cell_type": "code",
      "metadata": {
        "id": "etQ2CSJ_sPL7",
        "colab": {
          "base_uri": "https://localhost:8080/"
        },
        "outputId": "4f2489d4-5997-4363-fd47-6fa7e826f77a"
      },
      "source": [
        "recall_score(y_test, y_pred)"
      ],
      "execution_count": null,
      "outputs": [
        {
          "output_type": "execute_result",
          "data": {
            "text/plain": [
              "0.6333333333333333"
            ]
          },
          "metadata": {
            "tags": []
          },
          "execution_count": 164
        }
      ]
    },
    {
      "cell_type": "code",
      "metadata": {
        "id": "qx66YAaysguq"
      },
      "source": [
        "# сделаем причисление к выжившим с шансом не ниже 0.2\n",
        "y_pred = np.where(y_predicted_prob[:, 1] > 0.2, 1, 0)"
      ],
      "execution_count": null,
      "outputs": []
    },
    {
      "cell_type": "code",
      "metadata": {
        "id": "PxGPD8GzsijW",
        "colab": {
          "base_uri": "https://localhost:8080/"
        },
        "outputId": "20702896-942d-4602-f70c-9580174fd2d6"
      },
      "source": [
        "precision_score(y_test, y_pred)"
      ],
      "execution_count": null,
      "outputs": [
        {
          "output_type": "execute_result",
          "data": {
            "text/plain": [
              "0.6805555555555556"
            ]
          },
          "metadata": {
            "tags": []
          },
          "execution_count": 169
        }
      ]
    },
    {
      "cell_type": "code",
      "metadata": {
        "id": "m0Du_OMpsnm1",
        "colab": {
          "base_uri": "https://localhost:8080/"
        },
        "outputId": "ef8aafb6-234a-464c-dc6b-77eb3f3ddd2d"
      },
      "source": [
        "recall_score(y_test, y_pred)"
      ],
      "execution_count": null,
      "outputs": [
        {
          "output_type": "execute_result",
          "data": {
            "text/plain": [
              "0.8166666666666667"
            ]
          },
          "metadata": {
            "tags": []
          },
          "execution_count": 170
        }
      ]
    },
    {
      "cell_type": "code",
      "metadata": {
        "id": "4XdcYTPTsvPs"
      },
      "source": [
        "# Палка о двух концах: нужно выставлять ограничения для классификатора\n",
        "# в зависимости от того, что требуется максимизировать"
      ],
      "execution_count": null,
      "outputs": []
    },
    {
      "cell_type": "markdown",
      "metadata": {
        "id": "bC-3eCs-tDQB"
      },
      "source": [
        "# ROC-AUC кривая"
      ]
    },
    {
      "cell_type": "code",
      "metadata": {
        "id": "Y0PdgVYztCem",
        "colab": {
          "base_uri": "https://localhost:8080/"
        },
        "outputId": "693cb210-884e-4a6c-dbdb-8223444c3d83"
      },
      "source": [
        "pd.Series(y_predicted_prob[:, 1]).unique()"
      ],
      "execution_count": null,
      "outputs": [
        {
          "output_type": "execute_result",
          "data": {
            "text/plain": [
              "array([0.57142857, 0.5       , 0.13793103, 1.        , 0.        ,\n",
              "       0.85714286, 0.08333333, 0.27272727, 0.28571429, 0.03488372,\n",
              "       0.22222222, 0.1627907 , 0.33333333, 0.6       ])"
            ]
          },
          "metadata": {
            "tags": []
          },
          "execution_count": 173
        }
      ]
    },
    {
      "cell_type": "code",
      "metadata": {
        "id": "NX1n_oUXtSr2",
        "colab": {
          "base_uri": "https://localhost:8080/",
          "height": 312
        },
        "outputId": "1aebff4a-fb9a-4a7c-f2d7-a1182efcea3e"
      },
      "source": [
        "from sklearn.metrics import roc_curve, auc\n",
        "fpr, tpr, thresholds = roc_curve(y_test, y_predicted_prob[:,1])\n",
        "roc_auc = auc(fpr, tpr)\n",
        "\n",
        "plt.figure()\n",
        "plt.plot(fpr, tpr, label='ROC curve (area = %0.2f)' % roc_auc)\n",
        "plt.plot([0, 1], [0, 1], 'k--')\n",
        "plt.xlim([0.0, 1.0])\n",
        "plt.ylim([0.0, 1.05])\n",
        "plt.xlabel('False Positive Rate')\n",
        "plt.ylabel('True Positive Rate')\n",
        "plt.title('Receiver operating characteristic example')\n",
        "plt.legend(loc=\"lower right\")"
      ],
      "execution_count": null,
      "outputs": [
        {
          "output_type": "execute_result",
          "data": {
            "text/plain": [
              "<matplotlib.legend.Legend at 0x7f3c56654950>"
            ]
          },
          "metadata": {
            "tags": []
          },
          "execution_count": 175
        },
        {
          "output_type": "display_data",
          "data": {
            "image/png": "[encoded data removed]",
            "text/plain": [
              "<Figure size 432x288 with 1 Axes>"
            ]
          },
          "metadata": {
            "tags": [],
            "needs_background": "light"
          }
        }
      ]
    }
  ]
}