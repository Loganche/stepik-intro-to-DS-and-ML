{
  "nbformat": 4,
  "nbformat_minor": 0,
  "metadata": {
    "colab": {
      "name": "2-5-hw.ipynb",
      "provenance": [],
      "authorship_tag": "ABX9TyOrliJ2aJqSIQ6ewya0/t2u",
      "include_colab_link": true
    },
    "kernelspec": {
      "name": "python3",
      "display_name": "Python 3"
    },
    "language_info": {
      "name": "python"
    }
  },
  "cells": [
    {
      "cell_type": "markdown",
      "metadata": {
        "id": "view-in-github",
        "colab_type": "text"
      },
      "source": [
        "<a href=\"https://colab.research.google.com/github/Loganche/stepik-intro-to-DS-and-ML/blob/master/2-5/2-5-hw.ipynb\" target=\"_parent\"><img src=\"https://colab.research.google.com/assets/colab-badge.svg\" alt=\"Open In Colab\"/></a>"
      ]
    },
    {
      "cell_type": "code",
      "metadata": {
        "id": "GKRvYw5NZOrk"
      },
      "source": [
        "import pandas as pd\n",
        "from sklearn import tree\n",
        "from sklearn.model_selection import train_test_split\n",
        "import sklearn.metrics as mt\n",
        "import matplotlib.pyplot as plt\n",
        "import seaborn as sns\n",
        "\n",
        "%matplotlib inline"
      ],
      "execution_count": 18,
      "outputs": []
    },
    {
      "cell_type": "code",
      "metadata": {
        "colab": {
          "base_uri": "https://localhost:8080/",
          "height": 204
        },
        "id": "pGfPqwOzZphd",
        "outputId": "1ea9d192-472f-4c90-ec34-7879b2286076"
      },
      "source": [
        "raw_data = pd.read_csv('https://stepik.org/media/attachments/course/4852/songs.csv')\n",
        "raw_data.head()"
      ],
      "execution_count": 5,
      "outputs": [
        {
          "output_type": "execute_result",
          "data": {
            "text/html": [
              "<div>\n",
              "<style scoped>\n",
              "    .dataframe tbody tr th:only-of-type {\n",
              "        vertical-align: middle;\n",
              "    }\n",
              "\n",
              "    .dataframe tbody tr th {\n",
              "        vertical-align: top;\n",
              "    }\n",
              "\n",
              "    .dataframe thead th {\n",
              "        text-align: right;\n",
              "    }\n",
              "</style>\n",
              "<table border=\"1\" class=\"dataframe\">\n",
              "  <thead>\n",
              "    <tr style=\"text-align: right;\">\n",
              "      <th></th>\n",
              "      <th>song</th>\n",
              "      <th>year</th>\n",
              "      <th>artist</th>\n",
              "      <th>genre</th>\n",
              "      <th>lyrics</th>\n",
              "      <th>length</th>\n",
              "      <th>commas</th>\n",
              "      <th>exclamations</th>\n",
              "      <th>colons</th>\n",
              "      <th>hyphens</th>\n",
              "    </tr>\n",
              "  </thead>\n",
              "  <tbody>\n",
              "    <tr>\n",
              "      <th>0</th>\n",
              "      <td>the-ownerz</td>\n",
              "      <td>2007</td>\n",
              "      <td>gangstarr</td>\n",
              "      <td>Hip-Hop</td>\n",
              "      <td>\"One-two..\"\\n\"One-two, shots to the chin.. kno...</td>\n",
              "      <td>1300</td>\n",
              "      <td>24</td>\n",
              "      <td>5</td>\n",
              "      <td>0</td>\n",
              "      <td>11</td>\n",
              "    </tr>\n",
              "    <tr>\n",
              "      <th>1</th>\n",
              "      <td>dead-sound-of-misery</td>\n",
              "      <td>2006</td>\n",
              "      <td>blind-guardian</td>\n",
              "      <td>Metal</td>\n",
              "      <td>It's dark\\nLet's do it now\\nBring in the siren...</td>\n",
              "      <td>1566</td>\n",
              "      <td>0</td>\n",
              "      <td>0</td>\n",
              "      <td>0</td>\n",
              "      <td>0</td>\n",
              "    </tr>\n",
              "    <tr>\n",
              "      <th>2</th>\n",
              "      <td>modred-s-song</td>\n",
              "      <td>2006</td>\n",
              "      <td>blind-guardian</td>\n",
              "      <td>Metal</td>\n",
              "      <td>I've lost my battle before it starts\\nmy first...</td>\n",
              "      <td>996</td>\n",
              "      <td>1</td>\n",
              "      <td>0</td>\n",
              "      <td>1</td>\n",
              "      <td>0</td>\n",
              "    </tr>\n",
              "    <tr>\n",
              "      <th>3</th>\n",
              "      <td>the-ninth-wave</td>\n",
              "      <td>2015</td>\n",
              "      <td>blind-guardian</td>\n",
              "      <td>Metal</td>\n",
              "      <td>As dark night embraces\\nWe are the nation\\nI w...</td>\n",
              "      <td>2868</td>\n",
              "      <td>5</td>\n",
              "      <td>0</td>\n",
              "      <td>0</td>\n",
              "      <td>0</td>\n",
              "    </tr>\n",
              "    <tr>\n",
              "      <th>4</th>\n",
              "      <td>skills</td>\n",
              "      <td>2014</td>\n",
              "      <td>gangstarr</td>\n",
              "      <td>Hip-Hop</td>\n",
              "      <td>Skills, skills, skills\\n\"My Microphone\"\\n\"It's...</td>\n",
              "      <td>3351</td>\n",
              "      <td>22</td>\n",
              "      <td>0</td>\n",
              "      <td>0</td>\n",
              "      <td>3</td>\n",
              "    </tr>\n",
              "  </tbody>\n",
              "</table>\n",
              "</div>"
            ],
            "text/plain": [
              "                   song  year          artist  ... exclamations colons  hyphens\n",
              "0            the-ownerz  2007       gangstarr  ...            5      0       11\n",
              "1  dead-sound-of-misery  2006  blind-guardian  ...            0      0        0\n",
              "2         modred-s-song  2006  blind-guardian  ...            0      1        0\n",
              "3        the-ninth-wave  2015  blind-guardian  ...            0      0        0\n",
              "4                skills  2014       gangstarr  ...            0      0        3\n",
              "\n",
              "[5 rows x 10 columns]"
            ]
          },
          "metadata": {
            "tags": []
          },
          "execution_count": 5
        }
      ]
    },
    {
      "cell_type": "code",
      "metadata": {
        "colab": {
          "base_uri": "https://localhost:8080/"
        },
        "id": "nC_JzJ_CaAFC",
        "outputId": "b8c5f122-36bb-48a8-e567-9eb22f8ecf5e"
      },
      "source": [
        "raw_data.isnull().sum()"
      ],
      "execution_count": 6,
      "outputs": [
        {
          "output_type": "execute_result",
          "data": {
            "text/plain": [
              "song            0\n",
              "year            0\n",
              "artist          0\n",
              "genre           0\n",
              "lyrics          0\n",
              "length          0\n",
              "commas          0\n",
              "exclamations    0\n",
              "colons          0\n",
              "hyphens         0\n",
              "dtype: int64"
            ]
          },
          "metadata": {
            "tags": []
          },
          "execution_count": 6
        }
      ]
    },
    {
      "cell_type": "code",
      "metadata": {
        "colab": {
          "base_uri": "https://localhost:8080/",
          "height": 297
        },
        "id": "ux-fLkkXaDSd",
        "outputId": "ebf83af1-2885-4f5a-e6c5-548d83e3ceb6"
      },
      "source": [
        "raw_data.describe()"
      ],
      "execution_count": 8,
      "outputs": [
        {
          "output_type": "execute_result",
          "data": {
            "text/html": [
              "<div>\n",
              "<style scoped>\n",
              "    .dataframe tbody tr th:only-of-type {\n",
              "        vertical-align: middle;\n",
              "    }\n",
              "\n",
              "    .dataframe tbody tr th {\n",
              "        vertical-align: top;\n",
              "    }\n",
              "\n",
              "    .dataframe thead th {\n",
              "        text-align: right;\n",
              "    }\n",
              "</style>\n",
              "<table border=\"1\" class=\"dataframe\">\n",
              "  <thead>\n",
              "    <tr style=\"text-align: right;\">\n",
              "      <th></th>\n",
              "      <th>year</th>\n",
              "      <th>length</th>\n",
              "      <th>commas</th>\n",
              "      <th>exclamations</th>\n",
              "      <th>colons</th>\n",
              "      <th>hyphens</th>\n",
              "    </tr>\n",
              "  </thead>\n",
              "  <tbody>\n",
              "    <tr>\n",
              "      <th>count</th>\n",
              "      <td>360.000000</td>\n",
              "      <td>360.000000</td>\n",
              "      <td>360.000000</td>\n",
              "      <td>360.000000</td>\n",
              "      <td>360.000000</td>\n",
              "      <td>360.000000</td>\n",
              "    </tr>\n",
              "    <tr>\n",
              "      <th>mean</th>\n",
              "      <td>2005.388889</td>\n",
              "      <td>1740.452778</td>\n",
              "      <td>16.002778</td>\n",
              "      <td>0.502778</td>\n",
              "      <td>0.269444</td>\n",
              "      <td>3.288889</td>\n",
              "    </tr>\n",
              "    <tr>\n",
              "      <th>std</th>\n",
              "      <td>6.891834</td>\n",
              "      <td>950.442338</td>\n",
              "      <td>17.271146</td>\n",
              "      <td>2.431225</td>\n",
              "      <td>1.128096</td>\n",
              "      <td>8.760502</td>\n",
              "    </tr>\n",
              "    <tr>\n",
              "      <th>min</th>\n",
              "      <td>1977.000000</td>\n",
              "      <td>29.000000</td>\n",
              "      <td>0.000000</td>\n",
              "      <td>0.000000</td>\n",
              "      <td>0.000000</td>\n",
              "      <td>0.000000</td>\n",
              "    </tr>\n",
              "    <tr>\n",
              "      <th>25%</th>\n",
              "      <td>2006.000000</td>\n",
              "      <td>1027.000000</td>\n",
              "      <td>3.000000</td>\n",
              "      <td>0.000000</td>\n",
              "      <td>0.000000</td>\n",
              "      <td>0.000000</td>\n",
              "    </tr>\n",
              "    <tr>\n",
              "      <th>50%</th>\n",
              "      <td>2006.000000</td>\n",
              "      <td>1514.500000</td>\n",
              "      <td>10.000000</td>\n",
              "      <td>0.000000</td>\n",
              "      <td>0.000000</td>\n",
              "      <td>0.000000</td>\n",
              "    </tr>\n",
              "    <tr>\n",
              "      <th>75%</th>\n",
              "      <td>2008.000000</td>\n",
              "      <td>2266.750000</td>\n",
              "      <td>23.000000</td>\n",
              "      <td>0.000000</td>\n",
              "      <td>0.000000</td>\n",
              "      <td>3.000000</td>\n",
              "    </tr>\n",
              "    <tr>\n",
              "      <th>max</th>\n",
              "      <td>2016.000000</td>\n",
              "      <td>5280.000000</td>\n",
              "      <td>100.000000</td>\n",
              "      <td>35.000000</td>\n",
              "      <td>13.000000</td>\n",
              "      <td>63.000000</td>\n",
              "    </tr>\n",
              "  </tbody>\n",
              "</table>\n",
              "</div>"
            ],
            "text/plain": [
              "              year       length  ...      colons     hyphens\n",
              "count   360.000000   360.000000  ...  360.000000  360.000000\n",
              "mean   2005.388889  1740.452778  ...    0.269444    3.288889\n",
              "std       6.891834   950.442338  ...    1.128096    8.760502\n",
              "min    1977.000000    29.000000  ...    0.000000    0.000000\n",
              "25%    2006.000000  1027.000000  ...    0.000000    0.000000\n",
              "50%    2006.000000  1514.500000  ...    0.000000    0.000000\n",
              "75%    2008.000000  2266.750000  ...    0.000000    3.000000\n",
              "max    2016.000000  5280.000000  ...   13.000000   63.000000\n",
              "\n",
              "[8 rows x 6 columns]"
            ]
          },
          "metadata": {
            "tags": []
          },
          "execution_count": 8
        }
      ]
    },
    {
      "cell_type": "code",
      "metadata": {
        "colab": {
          "base_uri": "https://localhost:8080/",
          "height": 204
        },
        "id": "_LOo8K1DaTz4",
        "outputId": "66851d5f-7261-453a-d838-1b25f0952084"
      },
      "source": [
        "X = raw_data\n",
        "X = X.drop(['song', 'artist', 'lyrics'], axis=1)\n",
        "X = pd.get_dummies(X)\n",
        "X.head()"
      ],
      "execution_count": 13,
      "outputs": [
        {
          "output_type": "execute_result",
          "data": {
            "text/html": [
              "<div>\n",
              "<style scoped>\n",
              "    .dataframe tbody tr th:only-of-type {\n",
              "        vertical-align: middle;\n",
              "    }\n",
              "\n",
              "    .dataframe tbody tr th {\n",
              "        vertical-align: top;\n",
              "    }\n",
              "\n",
              "    .dataframe thead th {\n",
              "        text-align: right;\n",
              "    }\n",
              "</style>\n",
              "<table border=\"1\" class=\"dataframe\">\n",
              "  <thead>\n",
              "    <tr style=\"text-align: right;\">\n",
              "      <th></th>\n",
              "      <th>year</th>\n",
              "      <th>length</th>\n",
              "      <th>commas</th>\n",
              "      <th>exclamations</th>\n",
              "      <th>colons</th>\n",
              "      <th>hyphens</th>\n",
              "      <th>genre_Hip-Hop</th>\n",
              "      <th>genre_Metal</th>\n",
              "      <th>genre_Pop</th>\n",
              "    </tr>\n",
              "  </thead>\n",
              "  <tbody>\n",
              "    <tr>\n",
              "      <th>0</th>\n",
              "      <td>2007</td>\n",
              "      <td>1300</td>\n",
              "      <td>24</td>\n",
              "      <td>5</td>\n",
              "      <td>0</td>\n",
              "      <td>11</td>\n",
              "      <td>1</td>\n",
              "      <td>0</td>\n",
              "      <td>0</td>\n",
              "    </tr>\n",
              "    <tr>\n",
              "      <th>1</th>\n",
              "      <td>2006</td>\n",
              "      <td>1566</td>\n",
              "      <td>0</td>\n",
              "      <td>0</td>\n",
              "      <td>0</td>\n",
              "      <td>0</td>\n",
              "      <td>0</td>\n",
              "      <td>1</td>\n",
              "      <td>0</td>\n",
              "    </tr>\n",
              "    <tr>\n",
              "      <th>2</th>\n",
              "      <td>2006</td>\n",
              "      <td>996</td>\n",
              "      <td>1</td>\n",
              "      <td>0</td>\n",
              "      <td>1</td>\n",
              "      <td>0</td>\n",
              "      <td>0</td>\n",
              "      <td>1</td>\n",
              "      <td>0</td>\n",
              "    </tr>\n",
              "    <tr>\n",
              "      <th>3</th>\n",
              "      <td>2015</td>\n",
              "      <td>2868</td>\n",
              "      <td>5</td>\n",
              "      <td>0</td>\n",
              "      <td>0</td>\n",
              "      <td>0</td>\n",
              "      <td>0</td>\n",
              "      <td>1</td>\n",
              "      <td>0</td>\n",
              "    </tr>\n",
              "    <tr>\n",
              "      <th>4</th>\n",
              "      <td>2014</td>\n",
              "      <td>3351</td>\n",
              "      <td>22</td>\n",
              "      <td>0</td>\n",
              "      <td>0</td>\n",
              "      <td>3</td>\n",
              "      <td>1</td>\n",
              "      <td>0</td>\n",
              "      <td>0</td>\n",
              "    </tr>\n",
              "  </tbody>\n",
              "</table>\n",
              "</div>"
            ],
            "text/plain": [
              "   year  length  commas  ...  genre_Hip-Hop  genre_Metal  genre_Pop\n",
              "0  2007    1300      24  ...              1            0          0\n",
              "1  2006    1566       0  ...              0            1          0\n",
              "2  2006     996       1  ...              0            1          0\n",
              "3  2015    2868       5  ...              0            1          0\n",
              "4  2014    3351      22  ...              1            0          0\n",
              "\n",
              "[5 rows x 9 columns]"
            ]
          },
          "metadata": {
            "tags": []
          },
          "execution_count": 13
        }
      ]
    },
    {
      "cell_type": "code",
      "metadata": {
        "colab": {
          "base_uri": "https://localhost:8080/"
        },
        "id": "B148UOp6az5L",
        "outputId": "85e2b859-7a82-4fac-92e0-8a6038296b48"
      },
      "source": [
        "y = raw_data.artist\n",
        "y.head()"
      ],
      "execution_count": 15,
      "outputs": [
        {
          "output_type": "execute_result",
          "data": {
            "text/plain": [
              "0         gangstarr\n",
              "1    blind-guardian\n",
              "2    blind-guardian\n",
              "3    blind-guardian\n",
              "4         gangstarr\n",
              "Name: artist, dtype: object"
            ]
          },
          "metadata": {
            "tags": []
          },
          "execution_count": 15
        }
      ]
    },
    {
      "cell_type": "code",
      "metadata": {
        "id": "SMVswK8JbCsL"
      },
      "source": [
        "clf = tree.DecisionTreeClassifier(criterion='entropy', random_state=0, max_depth=25)\n",
        "X_train, X_test, y_train, y_test = train_test_split(X, y)"
      ],
      "execution_count": 19,
      "outputs": []
    },
    {
      "cell_type": "code",
      "metadata": {
        "colab": {
          "base_uri": "https://localhost:8080/"
        },
        "id": "1S7cv_9Mek3T",
        "outputId": "d39495e8-de97-4f8a-90b1-39712a66cf00"
      },
      "source": [
        "clf.fit(X_train, y_train)"
      ],
      "execution_count": 20,
      "outputs": [
        {
          "output_type": "execute_result",
          "data": {
            "text/plain": [
              "DecisionTreeClassifier(ccp_alpha=0.0, class_weight=None, criterion='entropy',\n",
              "                       max_depth=25, max_features=None, max_leaf_nodes=None,\n",
              "                       min_impurity_decrease=0.0, min_impurity_split=None,\n",
              "                       min_samples_leaf=1, min_samples_split=2,\n",
              "                       min_weight_fraction_leaf=0.0, presort='deprecated',\n",
              "                       random_state=0, splitter='best')"
            ]
          },
          "metadata": {
            "tags": []
          },
          "execution_count": 20
        }
      ]
    },
    {
      "cell_type": "code",
      "metadata": {
        "id": "XWlehu3merrz"
      },
      "source": [
        "pred = clf.predict(X_test)\n",
        "pres = mt.precision_score(y_test, pred, average='micro')"
      ],
      "execution_count": 25,
      "outputs": []
    },
    {
      "cell_type": "code",
      "metadata": {
        "colab": {
          "base_uri": "https://localhost:8080/"
        },
        "id": "E6uQEW8fe2A_",
        "outputId": "1099f372-56d8-4fa4-e481-374f1813911a"
      },
      "source": [
        "pres"
      ],
      "execution_count": 26,
      "outputs": [
        {
          "output_type": "execute_result",
          "data": {
            "text/plain": [
              "1.0"
            ]
          },
          "metadata": {
            "tags": []
          },
          "execution_count": 26
        }
      ]
    }
  ]
}